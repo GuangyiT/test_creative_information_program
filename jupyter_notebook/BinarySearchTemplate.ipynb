{
 "cells": [
  {
   "cell_type": "code",
   "execution_count": 2,
   "metadata": {},
   "outputs": [],
   "source": [
    "def solve(mid):\n",
    "    return True\n",
    "\n",
    "def BS():\n",
    "    ok = 1000 # 実在解\n",
    "    ng = -1 # 非実在解\n",
    "    while abs(ok - ng) > 1:\n",
    "        mid = (ok + ng) // 2\n",
    "        if solve(mid) :\n",
    "            ok = mid\n",
    "        else:\n",
    "            ng = mid\n",
    "        \n",
    "    return ok # ok が最終的な存在する実解    "
   ]
  }
 ],
 "metadata": {
  "jupytext": {
   "text_representation": {
    "extension": ".py",
    "format_name": "light",
    "format_version": "1.4",
    "jupytext_version": "1.1.1"
   }
  },
  "kernelspec": {
   "display_name": "Python 3",
   "language": "python",
   "name": "python3"
  },
  "language_info": {
   "codemirror_mode": {
    "name": "ipython",
    "version": 3
   },
   "file_extension": ".py",
   "mimetype": "text/x-python",
   "name": "python",
   "nbconvert_exporter": "python",
   "pygments_lexer": "ipython3",
   "version": "3.7.4"
  }
 },
 "nbformat": 4,
 "nbformat_minor": 2
}

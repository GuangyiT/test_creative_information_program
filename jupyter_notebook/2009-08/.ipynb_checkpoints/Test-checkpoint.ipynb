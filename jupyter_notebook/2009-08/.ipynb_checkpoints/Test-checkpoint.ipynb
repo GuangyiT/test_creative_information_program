{
 "cells": [
  {
   "cell_type": "code",
   "execution_count": 1,
   "metadata": {},
   "outputs": [],
   "source": [
    "import sys\n",
    "sys.path.append('..')"
   ]
  },
  {
   "cell_type": "code",
   "execution_count": 2,
   "metadata": {},
   "outputs": [],
   "source": [
    "import numpy as np"
   ]
  },
  {
   "cell_type": "code",
   "execution_count": 89,
   "metadata": {},
   "outputs": [],
   "source": [
    "from Unionfind import Unionfind\n",
    "\n",
    "class Point:\n",
    "    def __init__(self, x, y):\n",
    "        self.x = x\n",
    "        self.y = y\n",
    "    def __repr__(self):\n",
    "        return '{0} {1}'.format(self.x, self.y)\n",
    "    def __eq__(self, p):\n",
    "        return self.x == p.x and self.y == p.y\n",
    "\n",
    "class Rec:\n",
    "    def __init__(self, x, y, w, h):\n",
    "        self.x = x\n",
    "        self.y = y\n",
    "        self.w = w\n",
    "        self.h = h\n",
    "        self.xw = x+w\n",
    "        self.yh = y+h\n",
    "        # 左下から時計回り\n",
    "        self.p1 = Point(x, y)\n",
    "        self.p2 = Point(x, y + h)\n",
    "        self.p3 = Point(x + w, y + h)\n",
    "        self.p4 = Point(x + w, y)\n",
    "    def __repr__(self):\n",
    "        return '{0} {1} {2} {3}'.format(self.x, self.y, self.w, self.h)\n",
    "    def is_connected(self, rec):\n",
    "        return (abs(self.x - rec.xw) <= (self.w + rec.w)) and \\\n",
    "               (abs(rec.x - self.xw) <= (self.w + rec.w)) and \\\n",
    "               (abs(self.y - rec.yh) <= (self.h + rec.h)) and \\\n",
    "               (abs(rec.y - self.yh) <= (self.h + rec.h)) and \\\n",
    "               (self.p1 != rec.p3) and \\\n",
    "               (self.p2 != rec.p4) and \\\n",
    "               (self.p3 != rec.p1) and \\\n",
    "               (self.p4 != rec.p2)\n",
    "    def area(self):\n",
    "        return self.w * self.h\n",
    "\n",
    "class Cluster:\n",
    "    def __init__(self):\n",
    "        self.recs = []\n",
    "        self.min_x = 1000\n",
    "        self.max_x = -1\n",
    "        self.min_y = 1000\n",
    "        self.max_y = -1\n",
    "    def __repr__(self):\n",
    "        return str(self.recs)    \n",
    "    def size(self):\n",
    "        return len(self.recs)    \n",
    "    def add_rec(self, rec):\n",
    "        self.recs.append(rec)\n",
    "        self.min_x = min(self.min_x, rec.x)\n",
    "        self.min_y = min(self.min_y, rec.y)\n",
    "        self.max_x = max(self.max_x, rec.xw)\n",
    "        self.max_y = max(self.max_y, rec.yh)        \n",
    "    def area(self):\n",
    "        canvas = [[0 for _ in range(1051)] for _ in range(1051)]\n",
    "        for rec in self.recs:\n",
    "            for x in range(rec.x, rec.xw):\n",
    "                for y in range(rec.y, rec.yh):\n",
    "                    canvas[x][y] = 1\n",
    "        area = 0\n",
    "        for x in range(self.min_x, self.max_x + 1):\n",
    "            for y in range(self.min_y, self.max_y + 1):\n",
    "                area += canvas[x][y]\n",
    "        return area\n",
    "    \n",
    "def format_input(file_path):\n",
    "    with open(file_path, 'r') as f:\n",
    "        text_lines = f.readlines()\n",
    "        ret = []\n",
    "        for text in text_lines:\n",
    "            if text[-1] == '\\n':\n",
    "                text = text[:-1]\n",
    "            text_split = text.split(' ')\n",
    "            x = int(text_split[0])\n",
    "            y = int(text_split[1])\n",
    "            w = int(text_split[2])\n",
    "            h = int(text_split[3])\n",
    "            ret.append(Rec(x, y, w, h))\n",
    "    return ret \n",
    "\n",
    "recs = format_input('7.txt')\n",
    "\n",
    "def make_clusters(recs):\n",
    "    clusters = []\n",
    "    unionfind = Unionfind(len(recs))\n",
    "    for i in range(1, len(recs)):\n",
    "        rec = recs[i]\n",
    "        for j in range(i):            \n",
    "            rec2 = recs[j]\n",
    "            if rec.is_connected(rec2):                \n",
    "                unionfind.unite(i, j)\n",
    "    dic = {}            \n",
    "    for index, key in enumerate(unionfind.par):\n",
    "        if key in dic.keys():\n",
    "            dic[key].append(index)\n",
    "        else:\n",
    "            dic[key] = [index]\n",
    "    for value in dic.values():\n",
    "        cluster = Cluster()\n",
    "        for idx in value:\n",
    "            cluster.add_rec(recs[idx])\n",
    "        clusters.append(cluster)\n",
    "    return clusters\n",
    "\n",
    "def make_canvas(recs):\n",
    "    canvas = [[0 for _ in range(1051)] for _ in range(1051)]\n",
    "    for rec in recs:\n",
    "        for x in range(rec.x, rec.xw):\n",
    "            for y in range(rec.y, rec.yh):\n",
    "                canvas[x][y] += 1\n",
    "    maximum = 0\n",
    "    for row in canvas:\n",
    "        for n in row:\n",
    "            maximum = max(maximum, n)\n",
    "    return canvas, maximum\n",
    "\n",
    "# def solve\n",
    "\n",
    "# def solve3_1(file_path):\n",
    "#     recs = format_input(file_path)\n",
    "#     clusters = make_clusters(recs)\n",
    "#     canvas, maximum = make_canvas(recs)\n",
    "    "
   ]
  },
  {
   "cell_type": "code",
   "execution_count": 73,
   "metadata": {},
   "outputs": [],
   "source": [
    "def solve2(file_path):\n",
    "    recs = format_input(file_path)\n",
    "    for rec in recs:\n",
    "        print(rec.area())"
   ]
  },
  {
   "cell_type": "code",
   "execution_count": 74,
   "metadata": {},
   "outputs": [],
   "source": [
    "def solve3_1(file_path):\n",
    "    recs = format_input(file_path)\n",
    "    _, maximum = make_canvas(recs)\n",
    "    print(maximum)"
   ]
  },
  {
   "cell_type": "code",
   "execution_count": 77,
   "metadata": {},
   "outputs": [],
   "source": [
    "def solve3_2(file_path):\n",
    "    recs = format_input(file_path)\n",
    "    clusters = make_clusters(recs)\n",
    "    print(len(clusters))"
   ]
  },
  {
   "cell_type": "code",
   "execution_count": 81,
   "metadata": {},
   "outputs": [],
   "source": [
    "def solve3_3(file_path):\n",
    "    recs = format_input(file_path)\n",
    "    clusters = make_clusters(recs)\n",
    "    tmp = []\n",
    "    for cluster in clusters:\n",
    "        tmp.append(cluster.size())\n",
    "    print(max(tmp))    "
   ]
  },
  {
   "cell_type": "code",
   "execution_count": 94,
   "metadata": {},
   "outputs": [],
   "source": [
    "def solve3_4(file_path):\n",
    "    recs = format_input(file_path)\n",
    "    clusters = make_clusters(recs)\n",
    "    tmp = []\n",
    "    for cluster in clusters:\n",
    "        tmp.append(cluster.area())\n",
    "    print(max(tmp))"
   ]
  },
  {
   "cell_type": "code",
   "execution_count": 95,
   "metadata": {},
   "outputs": [
    {
     "name": "stdout",
     "output_type": "stream",
     "text": [
      "44\n"
     ]
    }
   ],
   "source": [
    "solve3_4('7.txt')"
   ]
  },
  {
   "cell_type": "code",
   "execution_count": 92,
   "metadata": {},
   "outputs": [],
   "source": [
    "def solve4_1(file_path):\n",
    "    recs = format_input(file_path)\n",
    "    canvas, maximum = make_canvas(recs)    "
   ]
  }
 ],
 "metadata": {
  "jupytext": {
   "text_representation": {
    "extension": ".py",
    "format_name": "light",
    "format_version": "1.4",
    "jupytext_version": "1.1.1"
   }
  },
  "kernelspec": {
   "display_name": "Python 3",
   "language": "python",
   "name": "python3"
  },
  "language_info": {
   "codemirror_mode": {
    "name": "ipython",
    "version": 3
   },
   "file_extension": ".py",
   "mimetype": "text/x-python",
   "name": "python",
   "nbconvert_exporter": "python",
   "pygments_lexer": "ipython3",
   "version": "3.7.4"
  }
 },
 "nbformat": 4,
 "nbformat_minor": 2
}

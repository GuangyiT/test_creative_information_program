{
 "cells": [
  {
   "cell_type": "code",
   "execution_count": 1,
   "metadata": {},
   "outputs": [],
   "source": [
    "import sys\n",
    "sys.path.append('..')\n",
    "import numpy as np"
   ]
  },
  {
   "cell_type": "markdown",
   "metadata": {},
   "source": [
    "### (1)\n",
    "#### 1-1\n",
    "aabbbaaabbbacabbbaabbbacaa\n",
    "#### 1-2\n",
    "aabbccdd000dd002aa"
   ]
  },
  {
   "cell_type": "code",
   "execution_count": 15,
   "metadata": {},
   "outputs": [],
   "source": [
    "# (2)\n",
    "import re\n",
    "from N_DIGIT import baseNumber\n",
    "\n",
    "def get_row_text(file_path):\n",
    "    with open(file_path, 'r') as f:\n",
    "        return f.read()\n",
    "\n",
    "def get_compressions(text):\n",
    "    return re.findall(r'[0-9]{3}', text)\n",
    "\n",
    "def make_dic(text):\n",
    "    n = len(text)\n",
    "    dic = {}\n",
    "    key_set = set([])\n",
    "    for i in range(n - 5):\n",
    "        si = text[i:i+6]\n",
    "        if not(si in key_set):\n",
    "            str_num = str(i)\n",
    "            str_num = '0' * (3 - len(str_num)) + str_num\n",
    "            dic[si] = str_num\n",
    "            key_set.add(si)\n",
    "    return dic    \n",
    "\n",
    "def compress_text(text):\n",
    "    text_array = list(text)    \n",
    "    dic = make_dic(text)\n",
    "    key_set = set(dic.keys())\n",
    "    n = len(text)\n",
    "    j = 0\n",
    "    memo = []\n",
    "    while j < n - 5:\n",
    "        sj = text[j:j+6]\n",
    "        if sj in key_set:\n",
    "            v = dic[sj]\n",
    "            int_v = int(v)\n",
    "            if int_v == j:\n",
    "                j += 1\n",
    "                continue \n",
    "            tmp = ['9', '9', '9']\n",
    "            tmp.extend(list(v))\n",
    "            text_array[j:j+6] = tmp\n",
    "            j += 6\n",
    "        else:\n",
    "            j += 1\n",
    "    return ''.join(text_array).replace('999', '')\n",
    "\n",
    "def get_content(text):\n",
    "    size = len(text)\n",
    "    ret = ''\n",
    "    ret += (text * ((6+size-1)//size))\n",
    "    return ret[:6]\n",
    "\n",
    "def decode(compressed_text):\n",
    "    text = compressed_text\n",
    "    codes = re.findall(r'[0-9]{3}', compressed_text)\n",
    "    for code in codes:\n",
    "        m = re.search(code, text)\n",
    "        i = int(code)\n",
    "        j = m.span()[0]\n",
    "        tmp = min(6, j - i)\n",
    "        rep = get_content(text[i:i+tmp])\n",
    "        text = text[:j] + rep + text[j+3:]\n",
    "    return text\n",
    "    \n",
    "def solve2(file_path):\n",
    "    row_text = get_row_text(file_path)\n",
    "    compressions = get_compressions(row_text)\n",
    "    print(len(compressions))\n",
    "    \n",
    "def solve3(file_path):\n",
    "    row_text = get_row_text(file_path)\n",
    "    dic = make_dic(row_text)\n",
    "    print(dic)\n",
    "\n",
    "def solve4(file_path):\n",
    "    row_text = get_row_text(file_path)\n",
    "    compressed_text = compress_text(row_text)\n",
    "    print(compressed_text)\n",
    "    \n",
    "def solve5(file_path):\n",
    "    compressed_text = get_row_text(file_path)\n",
    "    text = decode(compressed_text)\n",
    "    print(text)"
   ]
  },
  {
   "cell_type": "code",
   "execution_count": 16,
   "metadata": {},
   "outputs": [
    {
     "name": "stdout",
     "output_type": "stream",
     "text": [
      "aabbccddaabbccddbbccddaa\n"
     ]
    }
   ],
   "source": [
    "solve5('test001.txt')"
   ]
  },
  {
   "cell_type": "code",
   "execution_count": 65,
   "metadata": {},
   "outputs": [
    {
     "data": {
      "text/plain": [
       "'002'"
      ]
     },
     "execution_count": 65,
     "metadata": {},
     "output_type": "execute_result"
    }
   ],
   "source": [
    "str_num = '2'\n",
    "'0' * (3 - len(str_num)) + str_num"
   ]
  },
  {
   "cell_type": "code",
   "execution_count": null,
   "metadata": {},
   "outputs": [],
   "source": []
  },
  {
   "cell_type": "code",
   "execution_count": 5,
   "metadata": {},
   "outputs": [
    {
     "data": {
      "text/plain": [
       "'hel'"
      ]
     },
     "execution_count": 5,
     "metadata": {},
     "output_type": "execute_result"
    }
   ],
   "source": [
    "content = r'hellow python, 123, end.' \n",
    "content[0:3]"
   ]
  },
  {
   "cell_type": "code",
   "execution_count": 16,
   "metadata": {},
   "outputs": [
    {
     "name": "stdout",
     "output_type": "stream",
     "text": [
      "<re.Match object; span=(0, 11), match='aaa@xxx.com'>\n"
     ]
    }
   ],
   "source": [
    "s = 'aaa@xxx.com, bbb@yyy.com, ccc@zzz.net'\n",
    "\n",
    "m = re.match(r'[a-z]+@[a-z]+\\.com', s)\n",
    "print(m)"
   ]
  },
  {
   "cell_type": "code",
   "execution_count": 86,
   "metadata": {},
   "outputs": [],
   "source": [
    "a = list('abcd')\n",
    "a[1:3] = list('ee')"
   ]
  },
  {
   "cell_type": "code",
   "execution_count": 102,
   "metadata": {},
   "outputs": [
    {
     "data": {
      "text/plain": [
       "1"
      ]
     },
     "execution_count": 102,
     "metadata": {},
     "output_type": "execute_result"
    }
   ],
   "source": [
    "int('001')"
   ]
  },
  {
   "cell_type": "code",
   "execution_count": null,
   "metadata": {},
   "outputs": [],
   "source": []
  }
 ],
 "metadata": {
  "jupytext": {
   "text_representation": {
    "extension": ".py",
    "format_name": "light",
    "format_version": "1.4",
    "jupytext_version": "1.1.1"
   }
  },
  "kernelspec": {
   "display_name": "Python 3",
   "language": "python",
   "name": "python3"
  },
  "language_info": {
   "codemirror_mode": {
    "name": "ipython",
    "version": 3
   },
   "file_extension": ".py",
   "mimetype": "text/x-python",
   "name": "python",
   "nbconvert_exporter": "python",
   "pygments_lexer": "ipython3",
   "version": "3.7.4"
  }
 },
 "nbformat": 4,
 "nbformat_minor": 2
}

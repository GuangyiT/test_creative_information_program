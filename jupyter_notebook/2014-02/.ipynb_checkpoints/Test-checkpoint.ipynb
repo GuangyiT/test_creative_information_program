{
 "cells": [
  {
   "cell_type": "code",
   "execution_count": 1,
   "metadata": {},
   "outputs": [],
   "source": [
    "import sys\n",
    "sys.path.append('..')"
   ]
  },
  {
   "cell_type": "code",
   "execution_count": 2,
   "metadata": {},
   "outputs": [],
   "source": [
    "import numpy as np"
   ]
  },
  {
   "cell_type": "code",
   "execution_count": 8,
   "metadata": {},
   "outputs": [],
   "source": [
    "def solve1(x):\n",
    "    if (x <= 2):\n",
    "        return 1\n",
    "    else:\n",
    "        return solve1(x - 1) + solve1(x - 2)"
   ]
  },
  {
   "cell_type": "code",
   "execution_count": 18,
   "metadata": {},
   "outputs": [],
   "source": [
    "memo = [0] * 100\n",
    "memo[0], memo[1] = 0, 1\n",
    "def init():\n",
    "    for i in range(2, 99):\n",
    "        memo[i] = memo[i - 1] + memo[i - 2]\n",
    "def solve2(x):\n",
    "    init()\n",
    "    return memo[x]"
   ]
  },
  {
   "cell_type": "code",
   "execution_count": 109,
   "metadata": {},
   "outputs": [],
   "source": [
    "str1 = '00123456789012345678901234567890'\n",
    "str2 = '00987654321098765432109876543210'"
   ]
  },
  {
   "cell_type": "code",
   "execution_count": 116,
   "metadata": {},
   "outputs": [],
   "source": [
    "def solve3(s1, s2):\n",
    "    carry = 0\n",
    "    ret = ''\n",
    "    for i in range(32):\n",
    "        ch1 = s1[31 - i]\n",
    "        ch2 = s2[31 - i]\n",
    "        n1 = int(ch1)\n",
    "        n2 = int(ch2)\n",
    "        a = n1 + n2 + carry\n",
    "        if (a >= 10):\n",
    "            carry = 1\n",
    "        else:\n",
    "            carry = 0\n",
    "        b = a % 10\n",
    "        ret += str(b)\n",
    "    return ret[::-1]\n"
   ]
  },
  {
   "cell_type": "code",
   "execution_count": 117,
   "metadata": {},
   "outputs": [
    {
     "data": {
      "text/plain": [
       "'01111111110111111111011111111100'"
      ]
     },
     "execution_count": 117,
     "metadata": {},
     "output_type": "execute_result"
    }
   ],
   "source": [
    "solve3(str1, str2)"
   ]
  },
  {
   "cell_type": "code",
   "execution_count": 50,
   "metadata": {},
   "outputs": [],
   "source": [
    "memo = [0] * 141\n",
    "memo[0], memo[1] = 0, 1\n",
    "def init():\n",
    "    for i in range(2, len(memo)):\n",
    "        memo[i] = memo[i - 1] + memo[i - 2]\n",
    "def solve4(x):\n",
    "    init()\n",
    "    return memo[x]"
   ]
  },
  {
   "cell_type": "code",
   "execution_count": 51,
   "metadata": {},
   "outputs": [
    {
     "data": {
      "text/plain": [
       "81055900096023504197206408605"
      ]
     },
     "execution_count": 51,
     "metadata": {},
     "output_type": "execute_result"
    }
   ],
   "source": [
    "solve4(140)"
   ]
  },
  {
   "cell_type": "code",
   "execution_count": 56,
   "metadata": {},
   "outputs": [
    {
     "data": {
      "text/plain": [
       "12345.678901234567"
      ]
     },
     "execution_count": 56,
     "metadata": {},
     "output_type": "execute_result"
    }
   ],
   "source": [
    "str1 = '12345678901234567890123456789012'\n",
    "str2 = '04'\n",
    "def solve5(s1, s2):\n",
    "    n1 = int(s1)\n",
    "    n2 = int(s2)\n",
    "    return n1 / (10**(31 - n2))"
   ]
  },
  {
   "cell_type": "code",
   "execution_count": 57,
   "metadata": {},
   "outputs": [],
   "source": [
    "def root(x):\n",
    "    x = float(x)\n",
    "    right = x\n",
    "    left = 0.0\n",
    "    esp = 1e-7\n",
    "    while (abs(right - left) > esp):\n",
    "        mid = (right + left) / 2\n",
    "        if (mid * mid > x):\n",
    "            right = mid\n",
    "        else:\n",
    "            left = mid\n",
    "    return right        \n",
    "\n",
    "def solve6():\n",
    "    return (1 + root(5)) / 2"
   ]
  },
  {
   "cell_type": "code",
   "execution_count": 103,
   "metadata": {},
   "outputs": [],
   "source": [
    "# (a + b * root(5) / 2)** 2のa, b\n",
    "def func1(a, b):\n",
    "    new_a = int((a ** 2 + (b**2)*5) / 2)\n",
    "    new_b = int(a * b)\n",
    "    return new_a, new_b\n",
    "\n",
    "# (a + b * root(5) / 2) * (c + d * root(5) / 2)\n",
    "def func2(a, b, c, d):\n",
    "    new_a = int((a * c + b * d * 5) / 2)\n",
    "    new_b = int((a * d + b * c) / 2)\n",
    "    return new_a, new_b\n",
    "\n",
    "root5 = root(5)\n",
    "\n",
    "class obj:\n",
    "    def __init__(self, a, b):\n",
    "        self.a = a\n",
    "        self.b = b\n",
    "    def __repr__(self):\n",
    "        return '({0} + {1} * root5) / 2'.format(self.a, self.b)\n",
    "    def cal(self):\n",
    "        return (self.a + self.b * root5) / 2\n",
    "    def f1(self):\n",
    "        new_a, new_b = func1(self.a, self.b)\n",
    "        return obj(new_a, new_b)\n",
    "\n",
    "# (1+roo5/2)の2のindex-1乗のobjを格納\n",
    "memo1 = [obj(0, 0)] * 9\n",
    "memo1[1] = obj(1, 1)\n",
    "def init_memo1():\n",
    "    # 128 (2^7)まで計算\n",
    "    for i in range(2, len(memo1)):\n",
    "        memo1[i] = memo1[i - 1].f1()\n",
    "\n",
    "init_memo1()\n",
    "\n",
    "# ex) 139 = 128(2^7) + 8(2^3) + 2(2^1) + 1(2^0) = [1, 1, 0, 1, 0, 0, 0, 1]\n",
    "def func3(x):\n",
    "    ret = [0] * 8\n",
    "    if (x >= 128):\n",
    "        ret[7] = 1\n",
    "        x -= 128\n",
    "    if (x >= 64):\n",
    "        ret[6] = 1\n",
    "        x -= 64\n",
    "    if (x >= 32):\n",
    "        ret[5] = 1\n",
    "        x -= 32\n",
    "    if (x >= 16):\n",
    "        ret[4] = 1\n",
    "        x -= 16\n",
    "    if (x >= 8):\n",
    "        ret[3] = 1\n",
    "        x -= 8\n",
    "    if (x >= 4):\n",
    "        ret[2] = 1\n",
    "        x -= 4\n",
    "    if (x >= 2):\n",
    "        ret[1] = 1\n",
    "        x -= 2\n",
    "    if (x >= 1):\n",
    "        ret[0] = 1\n",
    "        x -= 1  \n",
    "    return ret\n",
    "\n",
    "def obj_mul(obj1, obj2):\n",
    "    a = obj1.a\n",
    "    b = obj1.b\n",
    "    c = obj2.a\n",
    "    d = obj2.b\n",
    "    new_a, new_b = func2(a, b, c, d)\n",
    "    return obj(new_a, new_b)\n",
    "\n",
    "# (1+roo5/2)index乗のobjを格納\n",
    "memo2 = [obj(0, 0)] * 141\n",
    "memo2[1] = obj(1, 1)\n",
    "\n",
    "for i in range(2, len(memo2)):\n",
    "    digit2 = func3(i)\n",
    "    obj_array = []\n",
    "    for (index, j) in enumerate(digit2):\n",
    "        if (j == 1):\n",
    "            obj_array.append(memo1[index+1])\n",
    "    tmp = obj_array[0]        \n",
    "    for k in range(1, len(obj_array)):\n",
    "        tmp = obj_mul(tmp, obj_array[k])\n",
    "    memo2[i] = tmp"
   ]
  },
  {
   "cell_type": "code",
   "execution_count": 104,
   "metadata": {},
   "outputs": [],
   "source": [
    "def g(x):\n",
    "    return memo2[x].cal() / root5"
   ]
  },
  {
   "cell_type": "code",
   "execution_count": 105,
   "metadata": {},
   "outputs": [
    {
     "data": {
      "text/plain": [
       "8.105589923090547e+28"
      ]
     },
     "execution_count": 105,
     "metadata": {},
     "output_type": "execute_result"
    }
   ],
   "source": [
    "g(140)"
   ]
  },
  {
   "cell_type": "code",
   "execution_count": 121,
   "metadata": {},
   "outputs": [],
   "source": [
    "def f(x):\n",
    "    return solve4(x)"
   ]
  },
  {
   "cell_type": "code",
   "execution_count": 123,
   "metadata": {},
   "outputs": [
    {
     "data": {
      "text/plain": [
       "8.651180380338751e+20"
      ]
     },
     "execution_count": 123,
     "metadata": {},
     "output_type": "execute_result"
    }
   ],
   "source": [
    "f(140) - g(140)"
   ]
  },
  {
   "cell_type": "code",
   "execution_count": 126,
   "metadata": {},
   "outputs": [],
   "source": [
    "def solve8():\n",
    "    Max = 0.0    \n",
    "    for i in range(1, 141):\n",
    "        Max = max(abs(f(i) - g(i)), Max)\n",
    "    return Max        "
   ]
  },
  {
   "cell_type": "code",
   "execution_count": 127,
   "metadata": {},
   "outputs": [
    {
     "data": {
      "text/plain": [
       "8.651180380338751e+20"
      ]
     },
     "execution_count": 127,
     "metadata": {},
     "output_type": "execute_result"
    }
   ],
   "source": [
    "solve8()"
   ]
  },
  {
   "cell_type": "code",
   "execution_count": null,
   "metadata": {},
   "outputs": [],
   "source": []
  }
 ],
 "metadata": {
  "jupytext": {
   "text_representation": {
    "extension": ".py",
    "format_name": "light",
    "format_version": "1.4",
    "jupytext_version": "1.1.1"
   }
  },
  "kernelspec": {
   "display_name": "Python 3",
   "language": "python",
   "name": "python3"
  },
  "language_info": {
   "codemirror_mode": {
    "name": "ipython",
    "version": 3
   },
   "file_extension": ".py",
   "mimetype": "text/x-python",
   "name": "python",
   "nbconvert_exporter": "python",
   "pygments_lexer": "ipython3",
   "version": "3.7.4"
  }
 },
 "nbformat": 4,
 "nbformat_minor": 2
}

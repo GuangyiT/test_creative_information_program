{
 "cells": [
  {
   "cell_type": "code",
   "execution_count": 7,
   "metadata": {},
   "outputs": [],
   "source": [
    "from heapq import heapify, heappop, heappush, heappushpop\n",
    "\n",
    "class PriorityQueue:\n",
    "    def __init__(self, heap):\n",
    "        '''\n",
    "        heap ... list\n",
    "        '''\n",
    "        self.heap = heap\n",
    "        heapify(self.heap)\n",
    "\n",
    "    def push(self, item):\n",
    "        heappush(self.heap, item)\n",
    "\n",
    "    def pop(self):\n",
    "        return heappop(self.heap)\n",
    "\n",
    "    def pushpop(self, item):\n",
    "        return heappushpop(self.heap, item)\n",
    "\n",
    "    def __call__(self):\n",
    "        return self.heap\n",
    "\n",
    "    def __len__(self):\n",
    "        return len(self.heap)\n",
    "    \n",
    "    def __repr__(self):\n",
    "        return str(self.heap)"
   ]
  },
  {
   "cell_type": "code",
   "execution_count": 8,
   "metadata": {},
   "outputs": [],
   "source": [
    "class Obj(object):\n",
    "    def __init__(self, x, y):\n",
    "        self.x = x\n",
    "        self.y = y\n",
    "    def __repr__(self):\n",
    "        return '({0}, {1})'.format(self.x, self.y)\n",
    "    def __lt__(self, obj):\n",
    "        return (self.x**2 + self.y**2) < (obj.x**2 + obj.y**2)"
   ]
  },
  {
   "cell_type": "code",
   "execution_count": 19,
   "metadata": {},
   "outputs": [
    {
     "data": {
      "text/plain": [
       "[(0, 0), (3, 0), (2, 3), (1, 5), (5, 6), (6, 5)]"
      ]
     },
     "execution_count": 19,
     "metadata": {},
     "output_type": "execute_result"
    }
   ],
   "source": [
    "# a = Obj(2, 3)\n",
    "# b = Obj(1, 5)\n",
    "# c = Obj(3, 0)\n",
    "# d = Obj(0, 0)\n",
    "# e = Obj(5, 6)\n",
    "# f = Obj(6, 5)\n",
    "# q1 = PriorityQueue([])\n",
    "# q1.push(a)\n",
    "# q1.push(b)\n",
    "# q1.push(c)\n",
    "# q1.push(d)\n",
    "# q1.push(e)\n",
    "# q1.push(f)\n",
    "# q1"
   ]
  },
  {
   "cell_type": "code",
   "execution_count": 20,
   "metadata": {},
   "outputs": [
    {
     "name": "stdout",
     "output_type": "stream",
     "text": [
      "(0, 0)\n",
      "(3, 0)\n",
      "(2, 3)\n",
      "(1, 5)\n",
      "(6, 5)\n",
      "(5, 6)\n"
     ]
    }
   ],
   "source": [
    "# print(q1.pop())\n",
    "# print(q1.pop())\n",
    "# print(q1.pop())\n",
    "# print(q1.pop())\n",
    "# print(q1.pop())\n",
    "# print(q1.pop())"
   ]
  },
  {
   "cell_type": "code",
   "execution_count": 24,
   "metadata": {},
   "outputs": [
    {
     "data": {
      "text/plain": [
       "['a', 'aaedd', 'daa', 'abc']"
      ]
     },
     "execution_count": 24,
     "metadata": {},
     "output_type": "execute_result"
    }
   ],
   "source": [
    "# q2 = PriorityQueue([])\n",
    "# a = 'abc'\n",
    "# b = 'aaedd'\n",
    "# c = 'daa'\n",
    "# d = 'a'\n",
    "# q2.push(a)\n",
    "# q2.push(b)\n",
    "# q2.push(c)\n",
    "# q2.push(d)\n",
    "# q2"
   ]
  },
  {
   "cell_type": "code",
   "execution_count": 25,
   "metadata": {},
   "outputs": [
    {
     "name": "stdout",
     "output_type": "stream",
     "text": [
      "a\n",
      "aaedd\n",
      "abc\n",
      "daa\n"
     ]
    }
   ],
   "source": [
    "# print(q2.pop())\n",
    "# print(q2.pop())\n",
    "# print(q2.pop())\n",
    "# print(q2.pop())"
   ]
  },
  {
   "cell_type": "code",
   "execution_count": null,
   "metadata": {},
   "outputs": [],
   "source": []
  }
 ],
 "metadata": {
  "jupytext": {
   "text_representation": {
    "extension": ".py",
    "format_name": "light",
    "format_version": "1.4",
    "jupytext_version": "1.1.1"
   }
  },
  "kernelspec": {
   "display_name": "Python 3",
   "language": "python",
   "name": "python3"
  },
  "language_info": {
   "codemirror_mode": {
    "name": "ipython",
    "version": 3
   },
   "file_extension": ".py",
   "mimetype": "text/x-python",
   "name": "python",
   "nbconvert_exporter": "python",
   "pygments_lexer": "ipython3",
   "version": "3.7.4"
  }
 },
 "nbformat": 4,
 "nbformat_minor": 2
}

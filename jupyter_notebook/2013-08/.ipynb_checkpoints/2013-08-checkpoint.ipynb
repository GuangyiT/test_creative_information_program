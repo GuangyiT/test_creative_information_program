{
 "cells": [
  {
   "cell_type": "code",
   "execution_count": 50,
   "metadata": {},
   "outputs": [],
   "source": [
    "from numpy import sqrt"
   ]
  },
  {
   "cell_type": "code",
   "execution_count": 51,
   "metadata": {},
   "outputs": [],
   "source": [
    "# (1\n",
    "def R0_num(d):\n",
    "    return (int(10.0 / d) + 1)**2;"
   ]
  },
  {
   "cell_type": "code",
   "execution_count": 52,
   "metadata": {},
   "outputs": [
    {
     "data": {
      "text/plain": [
       "100"
      ]
     },
     "execution_count": 52,
     "metadata": {},
     "output_type": "execute_result"
    }
   ],
   "source": [
    "R0_num(1.001)"
   ]
  },
  {
   "cell_type": "code",
   "execution_count": 53,
   "metadata": {},
   "outputs": [],
   "source": [
    "# (2\n",
    "def checkInside(x, y):\n",
    "    return abs(x - 5.0)**2 + abs(y - 5.0)**2 <= 25.0\n",
    "\n",
    "def R1_num(d):\n",
    "    ret = 0\n",
    "    col = row = int(10.0 / d) + 1\n",
    "    for i in range(0, col):\n",
    "        for j in range(0, row):\n",
    "            if (checkInside(i * d, j * d)):\n",
    "                ret += 1\n",
    "    return ret   \n",
    "\n",
    "def solve(d):\n",
    "    return (R1_num(d) / R0_num(d)) * 0.25"
   ]
  },
  {
   "cell_type": "code",
   "execution_count": 54,
   "metadata": {},
   "outputs": [
    {
     "data": {
      "text/plain": [
       "0.16735537190082644"
      ]
     },
     "execution_count": 54,
     "metadata": {},
     "output_type": "execute_result"
    }
   ],
   "source": [
    "solve(1.0)"
   ]
  },
  {
   "cell_type": "code",
   "execution_count": 15,
   "metadata": {},
   "outputs": [],
   "source": [
    "# (3, 4\n",
    "def solve(n):\n",
    "    tmp_tri_area = 25.0 * sqrt(3.0)\n",
    "    ret = tmp_tri_area\n",
    "    increase = 3\n",
    "    for i in range(0, n):\n",
    "        tmp_tri_area /= 9\n",
    "        ret += tmp_tri_area * increase\n",
    "        increase *= 4\n",
    "    \n",
    "    return ret"
   ]
  },
  {
   "cell_type": "code",
   "execution_count": 17,
   "metadata": {},
   "outputs": [
    {
     "data": {
      "text/plain": [
       "64.15002990995842"
      ]
     },
     "execution_count": 17,
     "metadata": {},
     "output_type": "execute_result"
    }
   ],
   "source": [
    "solve(2)"
   ]
  },
  {
   "cell_type": "code",
   "execution_count": 1,
   "metadata": {},
   "outputs": [],
   "source": [
    "import sys\n",
    "sys.path.append('..')\n",
    "\n",
    "from Cordinate import *"
   ]
  },
  {
   "cell_type": "code",
   "execution_count": 2,
   "metadata": {},
   "outputs": [],
   "source": [
    "# (5, (6\n",
    "def koch_points(n, p1, p2):\n",
    "    ret = []\n",
    "    def koch(n, p1, p2):\n",
    "        if (n == 0):\n",
    "            return\n",
    "        s = p1 + (p2 - p1) / 3\n",
    "        u = p1 + 2 * (p2 - p1) / 3\n",
    "        t = rotate(u, s, 60)\n",
    "        koch(n - 1, p1, s)\n",
    "        ret.append(s)\n",
    "        koch(n - 1, s, t)\n",
    "        ret.append(t)\n",
    "        koch(n - 1, t, u)\n",
    "        ret.append(u)\n",
    "        koch(n - 1, u, p2)\n",
    "    koch(n, p1, p2)\n",
    "    ret.insert(0, p1)\n",
    "    ret.append(p2)\n",
    "    return ret"
   ]
  },
  {
   "cell_type": "code",
   "execution_count": 3,
   "metadata": {},
   "outputs": [],
   "source": [
    "def solve(d, n):\n",
    "    p1 = Point(0, 0)\n",
    "    p2 = Point(5, 5 * sqrt(3))\n",
    "    p3 = Point(10, 0)\n",
    "    polygon = []\n",
    "    tmp1 = koch_points(n, p1, p2)\n",
    "    polygon.extend(tmp1)\n",
    "    polygon.pop(-1)\n",
    "    tmp2 = koch_points(n, p2, p3)\n",
    "    polygon.extend(tmp2)\n",
    "    polygon.pop(-1)\n",
    "    tmp3 = koch_points(n, p3, p1)\n",
    "    polygon.extend(tmp3)\n",
    "    polygon.pop(-1)\n",
    "            \n",
    "    check_points = []\n",
    "    \n",
    "    # 負方向への行間隔数\n",
    "    negative_rows = int((5 * sqrt(3) / 3) / d + 1e-12)\n",
    "    # 正方向への行間隔数\n",
    "    positive_rows = int(5 * sqrt(3) / d + 1e-12)\n",
    "    # 列間隔数\n",
    "    columns = int(10 / d + 1e-12)\n",
    "    \n",
    "    # y軸負方向のグリッドをcheck_pointsに追加（x軸含めない\n",
    "    for i in range(1, negative_rows+1):\n",
    "        for j in range(0, columns+1):\n",
    "            check_p = Point(d * j, -(d * i))\n",
    "            check_points.append(check_p)\n",
    "        \n",
    "    # y軸正方向のグリッドをcheck_pointsに追加（x軸含める\n",
    "    for i in range(0, positive_rows+1):\n",
    "        for j in range(0, columns+1):\n",
    "            check_p = Point(d * j, d * i)\n",
    "            check_points.append(check_p)               \n",
    "    \n",
    "    ret = 0\n",
    "    for i in range(0, len(check_points)):\n",
    "        point = check_points[i]\n",
    "        if (contains(polygon, point) > 0):\n",
    "            ret += 1\n",
    "    return ret        "
   ]
  },
  {
   "cell_type": "code",
   "execution_count": 14,
   "metadata": {},
   "outputs": [
    {
     "data": {
      "text/plain": [
       "67"
      ]
     },
     "execution_count": 14,
     "metadata": {},
     "output_type": "execute_result"
    }
   ],
   "source": [
    "solve(1, 7)"
   ]
  },
  {
   "cell_type": "code",
   "execution_count": null,
   "metadata": {},
   "outputs": [],
   "source": []
  },
  {
   "cell_type": "code",
   "execution_count": null,
   "metadata": {},
   "outputs": [],
   "source": []
  }
 ],
 "metadata": {
  "jupytext": {
   "text_representation": {
    "extension": ".py",
    "format_name": "light",
    "format_version": "1.4",
    "jupytext_version": "1.1.1"
   }
  },
  "kernelspec": {
   "display_name": "Python 3",
   "language": "python",
   "name": "python3"
  },
  "language_info": {
   "codemirror_mode": {
    "name": "ipython",
    "version": 3
   },
   "file_extension": ".py",
   "mimetype": "text/x-python",
   "name": "python",
   "nbconvert_exporter": "python",
   "pygments_lexer": "ipython3",
   "version": "3.7.4"
  }
 },
 "nbformat": 4,
 "nbformat_minor": 2
}

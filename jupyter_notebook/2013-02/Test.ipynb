{
 "cells": [
  {
   "cell_type": "code",
   "execution_count": 113,
   "metadata": {},
   "outputs": [],
   "source": [
    "import sys\n",
    "sys.path.append('..')"
   ]
  },
  {
   "cell_type": "code",
   "execution_count": 2,
   "metadata": {},
   "outputs": [],
   "source": [
    "import numpy as np"
   ]
  },
  {
   "cell_type": "code",
   "execution_count": 13,
   "metadata": {},
   "outputs": [],
   "source": [
    "# (1)\n",
    "def solve1(file_path):\n",
    "    with open(file_path, 'r') as f:\n",
    "        text = f.read()\n",
    "        if text[-1] == '\\n':\n",
    "            text = text[:-1]\n",
    "        ret = text.split('+')\n",
    "        return ret    \n",
    "def print1(ret):\n",
    "    for txt in ret:\n",
    "        print(txt)"
   ]
  },
  {
   "cell_type": "code",
   "execution_count": 14,
   "metadata": {},
   "outputs": [
    {
     "name": "stdout",
     "output_type": "stream",
     "text": [
      "b&a\n",
      "b&c\n",
      "a&b&c\n"
     ]
    }
   ],
   "source": [
    "print1(solve1('test001.txt'))"
   ]
  },
  {
   "cell_type": "code",
   "execution_count": 75,
   "metadata": {},
   "outputs": [],
   "source": [
    "# (2)\n",
    "def solve1(file_path):\n",
    "    with open(file_path, 'r') as f:\n",
    "        text = f.read()\n",
    "        if text[-1] == '\\n':\n",
    "            text = text[:-1]\n",
    "        ret = text.split('+')\n",
    "        return ret \n",
    "    \n",
    "def solve2(file_path):\n",
    "    txts = solve1(file_path)\n",
    "    al_set = set()\n",
    "    groups = []\n",
    "    for index, txt in enumerate(txts):\n",
    "        als = txt.split('&')\n",
    "        group = []\n",
    "        for al in als:\n",
    "            group.append(al)\n",
    "            al_set.add(al)\n",
    "        group.sort()\n",
    "        groups.append(group) \n",
    "        \n",
    "    al_set2 = []   \n",
    "    for al in al_set:\n",
    "        al_set2.append(al)\n",
    "    al_set2.sort()    \n",
    "    \n",
    "    answers = set()\n",
    "    for group in groups:\n",
    "        ans = ['']\n",
    "        for al in al_set2:\n",
    "            if al in group:\n",
    "                for i in range(len(ans)):\n",
    "                    ans[i] += '{0}=true '.format(al)\n",
    "#                     print(ans)\n",
    "            else:\n",
    "                tmp = len(ans)\n",
    "                ans = ans * 2\n",
    "                for i in range(tmp):\n",
    "                    ans[i] += '{0}=true '.format(al)\n",
    "                    ans[i+tmp] += '{0}=false '.format(al)\n",
    "        for txt in ans:\n",
    "            answers.add(txt)\n",
    "    if len(answers) > 0:\n",
    "        for a in answers:\n",
    "            print(a)\n",
    "    else:\n",
    "        print('none')"
   ]
  },
  {
   "cell_type": "code",
   "execution_count": 76,
   "metadata": {},
   "outputs": [
    {
     "name": "stdout",
     "output_type": "stream",
     "text": [
      "a=false b=true c=true \n",
      "a=true b=true c=false \n",
      "a=true b=true c=true \n"
     ]
    }
   ],
   "source": [
    "solve2('test001.txt')"
   ]
  },
  {
   "cell_type": "code",
   "execution_count": 94,
   "metadata": {},
   "outputs": [],
   "source": [
    "# (3)\n",
    "def solve1(file_path):\n",
    "    with open(file_path, 'r') as f:\n",
    "        text = f.read()\n",
    "        if text[-1] == '\\n':\n",
    "            text = text[:-1]\n",
    "        ret = text.split('+')\n",
    "        return ret\n",
    "\n",
    "# a&!aが存在するかどうか  \n",
    "# groupでは!aをa!の形で持っている\n",
    "def isNone(group):\n",
    "    for al in group:\n",
    "        if (al+'!') in group:\n",
    "            return True\n",
    "    return False    \n",
    "    \n",
    "def solve3(file_path):\n",
    "    txts = solve1(file_path)\n",
    "    al_set = set()\n",
    "    groups = []\n",
    "    for index, txt in enumerate(txts):\n",
    "        als = txt.split('&')\n",
    "        group = []\n",
    "        for al in als:\n",
    "            last = al[-1]\n",
    "            if (len(al) % 2) == 0:\n",
    "                group.append(last+'!')\n",
    "            else:\n",
    "                group.append(last)\n",
    "            al_set.add(last)\n",
    "        group.sort()\n",
    "        groups.append(group)    \n",
    "        \n",
    "    al_set2 = []   \n",
    "    for al in al_set:\n",
    "        al_set2.append(al)\n",
    "    al_set2.sort()    \n",
    "    \n",
    "#     print(al_set2)\n",
    "#     print(groups)\n",
    "#     return\n",
    "    \n",
    "    answers = set()\n",
    "    for group in groups:\n",
    "        if not isNone(group):\n",
    "            ans = ['']\n",
    "            for al in al_set2:\n",
    "                if al in group:\n",
    "                    for i in range(len(ans)):\n",
    "                        ans[i] += '{0}=true '.format(al)\n",
    "                elif (al+'!') in group:\n",
    "                    for i in range(len(ans)):\n",
    "                        ans[i] += '{0}=false '.format(al)\n",
    "                else:\n",
    "                    tmp = len(ans)\n",
    "                    ans = ans * 2\n",
    "                    for i in range(tmp):\n",
    "                        ans[i] += '{0}=true '.format(al)\n",
    "                        ans[i+tmp] += '{0}=false '.format(al)\n",
    "            for txt in ans:\n",
    "                answers.add(txt)\n",
    "    if len(answers) > 0:\n",
    "        for a in answers:\n",
    "            print(a)\n",
    "    else:\n",
    "        print('none')"
   ]
  },
  {
   "cell_type": "code",
   "execution_count": 95,
   "metadata": {},
   "outputs": [
    {
     "name": "stdout",
     "output_type": "stream",
     "text": [
      "a=true b=false c=false d=false \n",
      "a=true b=true c=true d=false \n",
      "a=true b=false c=true d=false \n",
      "a=false b=true c=false d=true \n",
      "a=false b=true c=false d=false \n",
      "a=true b=true c=false d=false \n"
     ]
    }
   ],
   "source": [
    "# solve3('test002.txt')"
   ]
  },
  {
   "cell_type": "code",
   "execution_count": 167,
   "metadata": {},
   "outputs": [],
   "source": [
    "# (4)\n",
    "from N_DIGIT import baseNumbers\n",
    "\n",
    "alpha = ['a', 'b', 'c', 'd', 'e', \n",
    "         'f', 'g', 'h', 'i', 'j', \n",
    "         'k', 'l', 'm', 'n', 'o',\n",
    "         'p', 'q', 'r', 's', 't',\n",
    "         'u', 'v', 'w', 'x', 'y', 'x',\n",
    "        ]\n",
    "    \n",
    "def get_alpha_set(text):\n",
    "    ret = []\n",
    "    for al in alpha:\n",
    "        if al in text:\n",
    "            ret.append(al)\n",
    "    ret.sort()    \n",
    "    return ret\n",
    "\n",
    "def macro(text):\n",
    "        text = text.replace('!', ' not ')\n",
    "        text = text.replace('&', ' and ')\n",
    "        text = text.replace('+', ' or ')\n",
    "        return text       \n",
    "\n",
    "def solve4(file_path):\n",
    "    with open(file_path, 'r') as f:\n",
    "        text = f.read()\n",
    "        if text[-1] == '\\n':\n",
    "            text = text[:-1]\n",
    "    al_set = get_alpha_set(text)\n",
    "    al_dic = {}\n",
    "    for index, al in enumerate(al_set):\n",
    "        al_dic[al] = index\n",
    "    bs = baseNumbers(1 << len(al_set), 2, len(al_set))\n",
    "    ans = []\n",
    "    for b in bs:\n",
    "        tmp = text\n",
    "        for al in al_set:\n",
    "            tmp = tmp.replace(al, str(b[al_dic[al]]))\n",
    "        formatted_tmp = macro(tmp)\n",
    "        if eval(formatted_tmp):\n",
    "            ans.append(b)\n",
    "    for a in ans:\n",
    "        txt = ''\n",
    "        for index, boolean in enumerate(a):\n",
    "            if boolean:\n",
    "                al = al_set[index]\n",
    "                txt += '{0}=true '.format(al)\n",
    "            else:\n",
    "                al = al_set[index]\n",
    "                txt += '{0}=false '.format(al)\n",
    "        print(txt)    "
   ]
  },
  {
   "cell_type": "code",
   "execution_count": 168,
   "metadata": {},
   "outputs": [
    {
     "name": "stdout",
     "output_type": "stream",
     "text": [
      "a=true b=false c=false d=false \n",
      "a=false b=true c=false d=false \n",
      "a=true b=true c=false d=false \n",
      "a=true b=false c=true d=false \n",
      "a=true b=true c=true d=false \n",
      "a=false b=true c=false d=true \n"
     ]
    }
   ],
   "source": [
    "# solve4('test002.txt')"
   ]
  },
  {
   "cell_type": "code",
   "execution_count": 174,
   "metadata": {},
   "outputs": [],
   "source": [
    "# (5)\n",
    "from N_DIGIT import baseNumbers\n",
    "\n",
    "alpha = ['a', 'b', 'c', 'd', 'e', \n",
    "         'f', 'g', 'h', 'i', 'j', \n",
    "         'k', 'l', 'm', 'n', 'o',\n",
    "         'p', 'q', 'r', 's', 't',\n",
    "         'u', 'v', 'w', 'x', 'y', 'x',\n",
    "        ]\n",
    "    \n",
    "def get_alpha_set(text):\n",
    "    ret = []\n",
    "    for al in alpha:\n",
    "        if al in text:\n",
    "            ret.append(al)\n",
    "    ret.sort()    \n",
    "    return ret\n",
    "\n",
    "def macro(text):\n",
    "        text = text.replace('!', ' not ')\n",
    "        text = text.replace('&', ' and ')\n",
    "        text = text.replace('+', ' or ')\n",
    "        return text       \n",
    "\n",
    "def solve5(file_path):\n",
    "    with open(file_path, 'r') as f:\n",
    "        text = f.read()\n",
    "        if text[-1] == '\\n':\n",
    "            text = text[:-1]\n",
    "    al_set = get_alpha_set(text)\n",
    "    al_dic = {}\n",
    "    for index, al in enumerate(al_set):\n",
    "        al_dic[al] = index\n",
    "    bs = baseNumbers(1 << len(al_set), 2, len(al_set))\n",
    "    ans = []\n",
    "    for b in bs:\n",
    "        tmp = text\n",
    "        for al in al_set:\n",
    "            tmp = tmp.replace(al, str(b[al_dic[al]]))\n",
    "        formatted_tmp = macro(tmp)\n",
    "        if eval(formatted_tmp):\n",
    "            ans.append(b)\n",
    "            \n",
    "    txt = ''\n",
    "    for a in ans:\n",
    "        tmp = ''\n",
    "        for index, boolean in enumerate(a):\n",
    "            if boolean:\n",
    "                al = al_set[index]\n",
    "                tmp += (al+'&')\n",
    "            else:\n",
    "                al = al_set[index]\n",
    "                tmp += ('!'+al+'&')\n",
    "        txt += (tmp[:-1]+'+')\n",
    "    print(txt[:-1])\n"
   ]
  },
  {
   "cell_type": "code",
   "execution_count": 175,
   "metadata": {},
   "outputs": [
    {
     "name": "stdout",
     "output_type": "stream",
     "text": [
      "a&b&!c+!a&b&c+a&b&c\n"
     ]
    }
   ],
   "source": [
    "solve5('test001.txt')"
   ]
  },
  {
   "cell_type": "code",
   "execution_count": 176,
   "metadata": {},
   "outputs": [],
   "source": [
    "# (6)\n",
    "from N_DIGIT import baseNumbers\n",
    "\n",
    "alpha = ['a', 'b', 'c', 'd', 'e', \n",
    "         'f', 'g', 'h', 'i', 'j', \n",
    "         'k', 'l', 'm', 'n', 'o',\n",
    "         'p', 'q', 'r', 's', 't',\n",
    "         'u', 'v', 'w', 'x', 'y', 'x',\n",
    "        ]\n",
    "    \n",
    "def get_alpha_set(text):\n",
    "    ret = []\n",
    "    for al in alpha:\n",
    "        if al in text:\n",
    "            ret.append(al)\n",
    "    ret.sort()    \n",
    "    return ret\n",
    "\n",
    "def macro(text):\n",
    "        text = text.replace('!', ' not ')\n",
    "        text = text.replace('&', ' and ')\n",
    "        text = text.replace('+', ' or ')\n",
    "        return text       \n",
    "\n",
    "def solve6(file_path):\n",
    "    with open(file_path, 'r') as f:\n",
    "        text = f.read()\n",
    "        if text[-1] == '\\n':\n",
    "            text = text[:-1]\n",
    "    al_set = get_alpha_set(text)\n",
    "    al_dic = {}\n",
    "    for index, al in enumerate(al_set):\n",
    "        al_dic[al] = index\n",
    "    bs = baseNumbers(1 << len(al_set), 2, len(al_set))\n",
    "    ans = []\n",
    "    for b in bs:\n",
    "        tmp = text\n",
    "        for al in al_set:\n",
    "            tmp = tmp.replace(al, str(b[al_dic[al]]))\n",
    "        formatted_tmp = macro(tmp)\n",
    "        if not eval(formatted_tmp):\n",
    "            ans.append(b)\n",
    "            \n",
    "    txt = ''\n",
    "    for a in ans:\n",
    "        tmp = '('\n",
    "        for index, boolean in enumerate(a):\n",
    "            if boolean:\n",
    "                al = al_set[index]\n",
    "                tmp += ('!'+al+'+')\n",
    "            else:\n",
    "                al = al_set[index]\n",
    "                tmp += (al+'+')\n",
    "        txt += (tmp[:-1]+')&')\n",
    "    print(txt[:-1])"
   ]
  },
  {
   "cell_type": "code",
   "execution_count": 177,
   "metadata": {},
   "outputs": [
    {
     "name": "stdout",
     "output_type": "stream",
     "text": [
      "(a+b+c)&(!a+b+c)&(a+!b+c)&(a+b+!c)&(!a+b+!c)\n"
     ]
    }
   ],
   "source": [
    "solve6('test001.txt')"
   ]
  }
 ],
 "metadata": {
  "jupytext": {
   "text_representation": {
    "extension": ".py",
    "format_name": "light",
    "format_version": "1.4",
    "jupytext_version": "1.1.1"
   }
  },
  "kernelspec": {
   "display_name": "Python 3",
   "language": "python",
   "name": "python3"
  },
  "language_info": {
   "codemirror_mode": {
    "name": "ipython",
    "version": 3
   },
   "file_extension": ".py",
   "mimetype": "text/x-python",
   "name": "python",
   "nbconvert_exporter": "python",
   "pygments_lexer": "ipython3",
   "version": "3.7.4"
  }
 },
 "nbformat": 4,
 "nbformat_minor": 2
}

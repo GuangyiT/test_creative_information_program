{
 "cells": [
  {
   "cell_type": "code",
   "execution_count": 1,
   "metadata": {},
   "outputs": [],
   "source": [
    "from heapq import heapify, heappop, heappush, heappushpop\n",
    "\n",
    "class PriorityQueue:\n",
    "    def __init__(self, heap):\n",
    "        '''\n",
    "        heap ... list\n",
    "        '''\n",
    "        self.heap = heap\n",
    "        heapify(self.heap)\n",
    "\n",
    "    def push(self, item):\n",
    "        heappush(self.heap, item)\n",
    "\n",
    "    def pop(self):\n",
    "        return heappop(self.heap)\n",
    "\n",
    "    def pushpop(self, item):\n",
    "        return heappushpop(self.heap, item)\n",
    "\n",
    "    def __call__(self):\n",
    "        return self.heap\n",
    "\n",
    "    def __len__(self):\n",
    "        return len(self.heap)\n",
    "    \n",
    "    def __repr__(self):\n",
    "        return str(self.heap)"
   ]
  },
  {
   "cell_type": "code",
   "execution_count": 21,
   "metadata": {},
   "outputs": [],
   "source": [
    "class Pair(object):\n",
    "    # nodeは節点の番号    \n",
    "    def __init__(self, cost, node): \n",
    "        self.cost = cost\n",
    "        self.node = node\n",
    "        \n",
    "    def __repr__(self):\n",
    "        return 'cost: {0}, node: {1}'.format(self.cost, self.node)\n",
    "    \n",
    "    def __lt__(self, pair):\n",
    "        return self.cost < pair.cost\n",
    "    \n",
    "class NeighborNode(object):\n",
    "    # cost: 隣接するノードからのコスト, p_node: 隣接するノード\n",
    "    def __init__(self, node, cost, p_node): \n",
    "        self.node = node\n",
    "        self.cost = cost\n",
    "        self.p_node = p_node\n",
    "    \n",
    "# graphは隣接リストで要素はNeighborNode型\n",
    "def dijkstra(graph, s):\n",
    "    node_num = len(graph)\n",
    "    color = [0 for _ in range(node_num)] # 0: 未到達, 1: 到達, 2: 探索済み\n",
    "    inf = int(1e9+7)\n",
    "    d = [inf for _ in range(node_num)] # startからのコスト\n",
    "    p = [-1 for _ in range(node_num)] # 親ノードの番号\n",
    "    PQ = PriorityQueue([])\n",
    "    \n",
    "    d[s] = 0\n",
    "    PQ.push(Pair(0, s))\n",
    "    color[s] = 1\n",
    "    \n",
    "    while len(PQ) > 0:\n",
    "        f_pair = PQ.pop()\n",
    "        u = f_pair.node\n",
    "        color[u] = 2\n",
    "        \n",
    "        for v_NBnode in graph[u]:\n",
    "            v = v_NBnode.node\n",
    "            if color[v] == 2:\n",
    "                continue\n",
    "            if d[v] > d[u] + v_NBnode.cost:\n",
    "                d[v] = d[u] + v_NBnode.cost\n",
    "                p[v] = u\n",
    "                PQ.push(Pair(d[v], v))\n",
    "                color[v] = 1\n",
    "    return d, p\n",
    "\n",
    "def getRoot(d, p, end):\n",
    "    root = []\n",
    "    inf = int(1e9+7)\n",
    "    if d[end] < inf:\n",
    "        parent = end\n",
    "        while parent != -1:\n",
    "            root.append(parent)\n",
    "            parent = p[parent]\n",
    "    \n",
    "    return d[end], root[::-1]"
   ]
  },
  {
   "cell_type": "code",
   "execution_count": 22,
   "metadata": {},
   "outputs": [
    {
     "name": "stdout",
     "output_type": "stream",
     "text": [
      "3 [1, 2, 0]\n",
      "0 [1]\n",
      "2 [1, 2]\n",
      "1000000007 []\n"
     ]
    }
   ],
   "source": [
    "with open('test002.txt', 'r') as f:\n",
    "    inp1 = f.readline().strip().split()\n",
    "    V = int(inp1[0])\n",
    "    E = int(inp1[1])\n",
    "    r = int(inp1[2])\n",
    "    \n",
    "    graph = [[] for _ in range(V)]\n",
    "    for i in range(E):\n",
    "        inp = f.readline().strip().split()\n",
    "        s = int(inp[0])\n",
    "        t = int(inp[1])\n",
    "        d = int(inp[2])\n",
    "        graph[s].append(NeighborNode(t, d, s))\n",
    "    d, p = dijkstra(graph, r)\n",
    "    for index, cost in enumerate(d):\n",
    "        _, root = getRoot(d, p, index)\n",
    "        print(cost, root)     "
   ]
  },
  {
   "cell_type": "code",
   "execution_count": null,
   "metadata": {},
   "outputs": [],
   "source": []
  }
 ],
 "metadata": {
  "jupytext": {
   "main_language": "python",
   "text_representation": {
    "extension": ".py",
    "format_name": "light",
    "format_version": "1.4",
    "jupytext_version": "1.1.1"
   }
  },
  "kernelspec": {
   "display_name": "Python 3",
   "language": "python",
   "name": "python3"
  },
  "language_info": {
   "codemirror_mode": {
    "name": "ipython",
    "version": 3
   },
   "file_extension": ".py",
   "mimetype": "text/x-python",
   "name": "python",
   "nbconvert_exporter": "python",
   "pygments_lexer": "ipython3",
   "version": "3.7.4"
  }
 },
 "nbformat": 4,
 "nbformat_minor": 2
}

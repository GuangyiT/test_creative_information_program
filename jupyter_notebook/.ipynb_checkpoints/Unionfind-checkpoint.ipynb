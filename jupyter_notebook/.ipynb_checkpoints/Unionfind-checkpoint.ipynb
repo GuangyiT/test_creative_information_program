{
 "cells": [
  {
   "cell_type": "code",
   "execution_count": 44,
   "metadata": {},
   "outputs": [],
   "source": [
    "class Unionfind:\n",
    "    def __init__(self, N):\n",
    "        self.par = [i for i in range(N)] # 節点\n",
    "        self.rank = [0 for _ in range(N)] # 木の高さ\n",
    "        self.size = [1 for _ in range(N)] # 節点が属する木の節点数\n",
    "        self.treeNum = N # 木の数\n",
    "    def addNode(self, x): # 節点(木)追加\n",
    "        self.par[x] = x\n",
    "        self.rank[x] = 0\n",
    "        self.size[x] = 1\n",
    "        self.treeNum += 1\n",
    "    def root(self, x): # 根を探すと同時に経路上にある節点の親が根になるように代入\n",
    "        if self.par[x] == x:\n",
    "            return x\n",
    "        else:\n",
    "            self.par[x] = Unionfind.root(self, self.par[x])\n",
    "            return self.par[x]\n",
    "    def same(self, x, y):\n",
    "        return Unionfind.root(x) == Unionfind.root(y)\n",
    "    def unite(self, x, y):\n",
    "        x = Unionfind.root(self, x)\n",
    "        y = Unionfind.root(self, y)\n",
    "        if x == y:\n",
    "            return\n",
    "        self.treeNum -= 1        \n",
    "        if self.rank[x] < self.rank[y]:\n",
    "            self.par[x] = y\n",
    "            self.size[y] += self.size[x]\n",
    "        else:\n",
    "            self.par[y] = x\n",
    "            self.size[x] += self.size[y]\n",
    "            if self.rank[x] == self.rank[y]:\n",
    "                self.rank[x] += 1"
   ]
  }
 ],
 "metadata": {
  "jupytext": {
   "main_language": "python",
   "text_representation": {
    "extension": ".py",
    "format_name": "light",
    "format_version": "1.4",
    "jupytext_version": "1.1.1"
   }
  },
  "kernelspec": {
   "display_name": "Python 3",
   "language": "python",
   "name": "python3"
  },
  "language_info": {
   "codemirror_mode": {
    "name": "ipython",
    "version": 3
   },
   "file_extension": ".py",
   "mimetype": "text/x-python",
   "name": "python",
   "nbconvert_exporter": "python",
   "pygments_lexer": "ipython3",
   "version": "3.7.4"
  }
 },
 "nbformat": 4,
 "nbformat_minor": 2
}

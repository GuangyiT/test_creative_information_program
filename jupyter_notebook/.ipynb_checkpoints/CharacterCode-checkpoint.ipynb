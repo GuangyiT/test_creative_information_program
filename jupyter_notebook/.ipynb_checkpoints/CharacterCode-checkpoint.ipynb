{
 "cells": [
  {
   "cell_type": "code",
   "execution_count": 30,
   "metadata": {},
   "outputs": [],
   "source": [
    "# 16進数asciiを文字列(str)に変換\n",
    "import binascii\n",
    "def HexAsciiToSTR(hexasciicode):\n",
    "    return binascii.unhexlify(hexasciicode.encode('ascii')).decode('utf-8')"
   ]
  },
  {
   "cell_type": "code",
   "execution_count": 31,
   "metadata": {},
   "outputs": [
    {
     "name": "stdout",
     "output_type": "stream",
     "text": [
      "こんにちは\n"
     ]
    }
   ],
   "source": [
    "# print(HexAsciiToSTR('e38193e38293e381abe381a1e381af'))\n",
    "# こんにちは"
   ]
  },
  {
   "cell_type": "code",
   "execution_count": 32,
   "metadata": {},
   "outputs": [],
   "source": [
    "# 文字列(str)を16進数asciiに変換\n",
    "def STRtoHexAscii(string):\n",
    "    return binascii.b2a_hex(string.encode('utf-8'))"
   ]
  },
  {
   "cell_type": "code",
   "execution_count": 34,
   "metadata": {},
   "outputs": [
    {
     "name": "stdout",
     "output_type": "stream",
     "text": [
      "b'48656c6c6f'\n"
     ]
    }
   ],
   "source": [
    "# print(STRtoHexAscii('Hello'))\n",
    "# b'48656c6c6f'"
   ]
  }
 ],
 "metadata": {
  "jupytext": {
   "text_representation": {
    "extension": ".py",
    "format_name": "light",
    "format_version": "1.4",
    "jupytext_version": "1.1.1"
   }
  },
  "kernelspec": {
   "display_name": "Python 3",
   "language": "python",
   "name": "python3"
  },
  "language_info": {
   "codemirror_mode": {
    "name": "ipython",
    "version": 3
   },
   "file_extension": ".py",
   "mimetype": "text/x-python",
   "name": "python",
   "nbconvert_exporter": "python",
   "pygments_lexer": "ipython3",
   "version": "3.7.4"
  }
 },
 "nbformat": 4,
 "nbformat_minor": 2
}

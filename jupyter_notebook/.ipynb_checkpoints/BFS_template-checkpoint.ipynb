{
 "cells": [
  {
   "cell_type": "code",
   "execution_count": 2,
   "metadata": {},
   "outputs": [],
   "source": [
    "from collections import deque\n",
    "\n",
    "# グラフの集合のパターン\n",
    "# graphは隣接リスト\n",
    "def bfs(graph):\n",
    "    node_num = len(graph)\n",
    "    # 0: 未発見, 1: 発見, 2: 到達 \n",
    "    color = [0 for _ in range(node_num)]\n",
    "\n",
    "    for s in range(node_num):\n",
    "        if (color[s] == 2):\n",
    "            continue\n",
    "        q = deque([s])\n",
    "        color[start] = 1\n",
    "        while (len(q) > 0):\n",
    "            u = q.popleft()\n",
    "            color[u] = 2\n",
    "            for v in graph[u]:\n",
    "                if color[v] == 0:\n",
    "                    q.append(v)\n",
    "                    color[v] = 1\n",
    "    return"
   ]
  },
  {
   "cell_type": "code",
   "execution_count": 3,
   "metadata": {},
   "outputs": [],
   "source": [
    "# 全ノードが一つのグラフ(連結している)パターン\n",
    "# graphは隣接リスト\n",
    "def bfs(graph, s):\n",
    "    node_num = len(graph)\n",
    "    # 0: 未発見, 1: 発見, 2: 到達 \n",
    "    color = [0 for _ in range(node_num)]\n",
    "    q = deque([s])\n",
    "    color[s] = 1\n",
    "    while (len(q) > 0):\n",
    "        u = q.popleft()\n",
    "        color[u] = 2\n",
    "        for v in graph[u]:\n",
    "            if color[v] == 0:\n",
    "                q.append(v)\n",
    "                color[v] = 1\n",
    "    return"
   ]
  }
 ],
 "metadata": {
  "jupytext": {
   "text_representation": {
    "extension": ".py",
    "format_name": "light",
    "format_version": "1.4",
    "jupytext_version": "1.1.1"
   }
  },
  "kernelspec": {
   "display_name": "Python 3",
   "language": "python",
   "name": "python3"
  },
  "language_info": {
   "codemirror_mode": {
    "name": "ipython",
    "version": 3
   },
   "file_extension": ".py",
   "mimetype": "text/x-python",
   "name": "python",
   "nbconvert_exporter": "python",
   "pygments_lexer": "ipython3",
   "version": "3.7.4"
  }
 },
 "nbformat": 4,
 "nbformat_minor": 2
}

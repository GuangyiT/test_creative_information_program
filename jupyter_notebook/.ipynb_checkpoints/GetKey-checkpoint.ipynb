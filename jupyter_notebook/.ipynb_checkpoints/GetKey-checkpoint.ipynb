{
 "cells": [
  {
   "cell_type": "code",
   "execution_count": null,
   "metadata": {},
   "outputs": [],
   "source": [
    "# terminalからの入力をEnterせずに逐次取得しintで返す(ex. a => 97)\n",
    "\n",
    "import fcntl\n",
    "import termios\n",
    "import sys\n",
    "import os\n",
    "\n",
    "def getkey():\n",
    "    fno = sys.stdin.fileno()\n",
    "\n",
    "    #stdinの端末属性を取得\n",
    "    attr_old = termios.tcgetattr(fno)\n",
    "\n",
    "    # stdinのエコー無効、カノニカルモード無効\n",
    "    attr = termios.tcgetattr(fno)\n",
    "    attr[3] = attr[3] & ~termios.ECHO & ~termios.ICANON # & ~termios.ISIG\n",
    "    termios.tcsetattr(fno, termios.TCSADRAIN, attr)\n",
    "\n",
    "    # stdinをNONBLOCKに設定\n",
    "    fcntl_old = fcntl.fcntl(fno, fcntl.F_GETFL)\n",
    "    fcntl.fcntl(fno, fcntl.F_SETFL, fcntl_old | os.O_NONBLOCK)\n",
    "\n",
    "    chr = 0\n",
    "\n",
    "    try:\n",
    "        # キーを取得\n",
    "        c = sys.stdin.read(1)\n",
    "        if len(c):\n",
    "            while len(c):\n",
    "                chr = (chr << 8) + ord(c)\n",
    "                c = sys.stdin.read(1)\n",
    "    finally:\n",
    "        # stdinを元に戻す\n",
    "        fcntl.fcntl(fno, fcntl.F_SETFL, fcntl_old)\n",
    "        termios.tcsetattr(fno, termios.TCSANOW, attr_old)\n",
    "\n",
    "    return chr"
   ]
  }
 ],
 "metadata": {
  "jupytext": {
   "main_language": "python",
   "text_representation": {
    "extension": ".py",
    "format_name": "light",
    "format_version": "1.4",
    "jupytext_version": "1.1.1"
   }
  },
  "kernelspec": {
   "display_name": "Python 3",
   "language": "python",
   "name": "python3"
  },
  "language_info": {
   "codemirror_mode": {
    "name": "ipython",
    "version": 3
   },
   "file_extension": ".py",
   "mimetype": "text/x-python",
   "name": "python",
   "nbconvert_exporter": "python",
   "pygments_lexer": "ipython3",
   "version": "3.7.4"
  }
 },
 "nbformat": 4,
 "nbformat_minor": 2
}

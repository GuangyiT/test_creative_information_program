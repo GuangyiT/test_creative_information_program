{
 "cells": [
  {
   "cell_type": "code",
   "execution_count": 1,
   "metadata": {},
   "outputs": [],
   "source": [
    "import sys\n",
    "sys.path.append('..')"
   ]
  },
  {
   "cell_type": "code",
   "execution_count": 2,
   "metadata": {},
   "outputs": [],
   "source": [
    "import numpy as np"
   ]
  },
  {
   "cell_type": "code",
   "execution_count": 59,
   "metadata": {},
   "outputs": [],
   "source": [
    "from collections import deque\n",
    "from Unionfind import Unionfind\n",
    "\n",
    "class Edge(object):\n",
    "    def __init__(self, v1, v2):\n",
    "        self.v1 = v1 - 1\n",
    "        self.v2 = v2 - 1\n",
    "    def __repr__(self):\n",
    "        return '{0} - {1}'.format(self.v1 + 1, self.v2 + 1)\n",
    "\n",
    "def inputdata(file_path, line = 181):\n",
    "    with open(file_path, 'r') as f:\n",
    "        edges = []\n",
    "        for i in range(line):\n",
    "            txt = f.readline()\n",
    "            if txt[-1] == '\\n':\n",
    "                txt = txt[:-1]\n",
    "            txt_array = txt.split(' ')\n",
    "            edge = Edge(int(txt_array[0]), int(txt_array[1]))\n",
    "            edges.append(edge)\n",
    "        return edges\n",
    "\n",
    "def all_inputdata(file_path):\n",
    "    with open(file_path, 'r') as f:\n",
    "        text_array = f.readlines()\n",
    "        edges = [] \n",
    "        for txt in text_array:\n",
    "            if txt[-1] == '\\n':\n",
    "                txt = txt[:-1]\n",
    "            txt_array = txt.split(' ')\n",
    "            edge = Edge(int(txt_array[0]), int(txt_array[1]))\n",
    "            edges.append(edge)        \n",
    "        return edges    \n",
    "    \n",
    "edges = inputdata('test001.txt')   \n",
    "all_edges = all_inputdata('test001.txt')\n",
    "\n",
    "def make_n_list(edges):\n",
    "    ret = [[] for _ in range(100)]\n",
    "    for edge in edges:\n",
    "        ret[edge.v1].append(edge.v2)\n",
    "        ret[edge.v2].append(edge.v1)        \n",
    "    return ret\n",
    "\n",
    "def make_n_array(edges):\n",
    "    ret = [[0 for _ in range(100)] for _ in range(100)]\n",
    "    for edge in edges:\n",
    "        ret[edge.v1][edge.v2] = 1\n",
    "        ret[edge.v2][edge.v1] = 1\n",
    "    return ret    \n",
    "\n",
    "n_list = make_n_list(edges)\n",
    "\n",
    "n_array = make_n_array(edges)\n",
    "\n",
    "# print(n_list)\n",
    "# print(n_array)\n",
    "\n",
    "def get_connections(n_list):\n",
    "    node_num = 100\n",
    "     # 0: 未発見, 1: 発見, 2: 到達 \n",
    "    color = [0 for _ in range(node_num)]\n",
    "    connections = []\n",
    "    for s in range(node_num):\n",
    "        connection = []\n",
    "        if color[s] == 2:\n",
    "            continue\n",
    "        q = deque([s])\n",
    "        color[s] = 1\n",
    "        while len(q) > 0:\n",
    "            u = q.popleft()\n",
    "            color[u] = 2\n",
    "            connection.append(u)\n",
    "            for v in n_list[u]:\n",
    "                if color[v] == 0:\n",
    "                    q.append(v)\n",
    "                    color[v] = 1\n",
    "        if len(connection) > 0:\n",
    "            connections.append(connection)\n",
    "    return connections  \n",
    "\n",
    "connections = get_connections(n_list)\n",
    "\n",
    "def solve2_1(connections):\n",
    "    ret = []\n",
    "    for connection in connections:\n",
    "        ret.append(len(connection))\n",
    "    ret.sort()\n",
    "    return ret[::-1]\n",
    "\n",
    "def get_all_cluster(n_list, n_array):\n",
    "    ret = [0.0 for _ in range(100)]\n",
    "    for index, neighbor_nodes in enumerate(n_list):\n",
    "        size = len(neighbor_nodes)\n",
    "        maximum = size * (size - 1) // 2\n",
    "        if size < 2:            \n",
    "            continue\n",
    "        cnt = 0\n",
    "        for i in range(len(neighbor_nodes) - 1):            \n",
    "            u = neighbor_nodes[i]\n",
    "            for j in range(i+1, len(neighbor_nodes)):                    \n",
    "                v  = neighbor_nodes[j]\n",
    "                if n_array[u][v] != 0:\n",
    "                    cnt += 1\n",
    "        ret[index] = (cnt / maximum)\n",
    "        \n",
    "    return ret\n",
    "\n",
    "all_cluster = get_all_cluster(n_list, n_array)\n",
    "\n",
    "def solve2_2(all_cluster):\n",
    "    for i in range(10):\n",
    "        print(all_cluster[i])\n",
    "\n",
    "def get_cluster_average(all_cluster):\n",
    "    total = 0.0\n",
    "    for cluster in all_cluster:\n",
    "        total += cluster\n",
    "    return total / len(all_cluster)\n",
    "\n",
    "def solve2_3(all_cluster):\n",
    "    print(get_cluster_average(all_cluster))\n",
    "    \n",
    "\n",
    "    \n",
    "\n",
    "    "
   ]
  },
  {
   "cell_type": "code",
   "execution_count": 60,
   "metadata": {},
   "outputs": [
    {
     "name": "stdout",
     "output_type": "stream",
     "text": [
      "0.38967460317460323\n"
     ]
    }
   ],
   "source": [
    "solve2_3(all_cluster)"
   ]
  },
  {
   "cell_type": "code",
   "execution_count": 70,
   "metadata": {},
   "outputs": [],
   "source": [
    "from collections import deque\n",
    "from Unionfind import Unionfind\n",
    "\n",
    "class Edge(object):\n",
    "    def __init__(self, v1, v2):\n",
    "        self.v1 = v1 - 1\n",
    "        self.v2 = v2 - 1\n",
    "    def __repr__(self):\n",
    "        return '{0} - {1}'.format(self.v1 + 1, self.v2 + 1)\n",
    "\n",
    "def all_inputdata(file_path):\n",
    "    with open(file_path, 'r') as f:\n",
    "        text_array = f.readlines()\n",
    "        edges = [] \n",
    "        for txt in text_array:\n",
    "            if txt[-1] == '\\n':\n",
    "                txt = txt[:-1]\n",
    "            txt_array = txt.split(' ')\n",
    "            edge = Edge(int(txt_array[0]), int(txt_array[1]))\n",
    "            edges.append(edge)        \n",
    "        return edges\n",
    "    \n",
    "all_edges = all_inputdata('test001.txt')\n",
    "\n",
    "def get_minimum_N(all_edges):\n",
    "    N = -1\n",
    "    unionfind = Unionfind(100)\n",
    "    for index, edge in enumerate(all_edges):\n",
    "        N = index + 1\n",
    "        unionfind.unite(edge.v1, edge.v2)\n",
    "        if unionfind.treeNum == 1:\n",
    "            break;\n",
    "    return N\n",
    "\n",
    "def solve2_4(all_edges):\n",
    "    print(get_minimum_N(all_edges))"
   ]
  },
  {
   "cell_type": "code",
   "execution_count": 72,
   "metadata": {},
   "outputs": [
    {
     "name": "stdout",
     "output_type": "stream",
     "text": [
      "202\n"
     ]
    }
   ],
   "source": [
    "solve2_4(all_edges)"
   ]
  },
  {
   "cell_type": "code",
   "execution_count": 75,
   "metadata": {},
   "outputs": [],
   "source": [
    "def solve2_5():\n",
    "    all_edges = all_inputdata('test001.txt')\n",
    "    minimum_N = get_minimum_N(all_edges)\n",
    "    N = minimum_N + 100\n",
    "    edges = all_edges[:N]\n",
    "    n_list = make_n_list(edges)\n",
    "    n_array = make_n_array(edges)\n",
    "    all_cluster = get_all_cluster(n_list, n_array)\n",
    "    print(get_cluster_average(all_cluster))"
   ]
  },
  {
   "cell_type": "code",
   "execution_count": 76,
   "metadata": {},
   "outputs": [
    {
     "name": "stdout",
     "output_type": "stream",
     "text": [
      "0.23250377400377398\n"
     ]
    }
   ],
   "source": [
    "solve2_5()"
   ]
  },
  {
   "cell_type": "code",
   "execution_count": 81,
   "metadata": {},
   "outputs": [],
   "source": [
    "def floyd(edges):\n",
    "    inf = 50000\n",
    "    dist = [[inf for _ in range(100)] for _ in range(100)]\n",
    "    for i in range(100):\n",
    "        dist[i][i] = 0\n",
    "    for edge in edges:\n",
    "        dist[edge.v1][edge.v2] = 1\n",
    "        dist[edge.v2][edge.v1] = 1\n",
    "    \n",
    "    for i in range(100):\n",
    "        for j in range(100):\n",
    "            for k in range(100):\n",
    "                dist[j][k] = min(dist[j][k], dist[j][i] + dist[i][k])\n",
    "    return dist\n",
    "\n",
    "def get_average_diameter(dist):\n",
    "    total = 0\n",
    "    mom = len(dist) * (len(dist) - 1) // 2\n",
    "    for i in range(len(dist)-1):\n",
    "        for j in range(i+1, len(dist)):\n",
    "            total += dist[i][j]\n",
    "    return total / mom\n",
    "\n",
    "def solve3():\n",
    "    all_edges = all_inputdata('test001.txt')\n",
    "    minimum_N = get_minimum_N(all_edges)\n",
    "    N = minimum_N + 100\n",
    "    g3_edges = all_edges[:minimum_N]\n",
    "    g4_edges = all_edges[:N]\n",
    "    \n",
    "    g3_n_list = make_n_list(g3_edges)\n",
    "    g4_n_list = make_n_list(g4_edges)\n",
    "    g3_n_array = make_n_array(g3_edges)\n",
    "    g4_n_array = make_n_array(g4_edges)\n",
    "    \n",
    "    g3_dist = floyd(g3_edges)\n",
    "    g4_dist = floyd(g4_edges)\n",
    "    \n",
    "    g3_average_diameter = get_average_diameter(g3_dist)\n",
    "    g4_average_diameter = get_average_diameter(g4_dist)\n",
    "    \n",
    "    print('G3: 27 - 63: {0}'.format(g3_dist[26][62]))\n",
    "    print('G4: 27 - 63: {0}'.format(g4_dist[26][62]))\n",
    "    print('G3 average diameter: {0}'.format(g3_average_diameter))\n",
    "    print('G4 average diameter: {0}'.format(g4_average_diameter))            "
   ]
  },
  {
   "cell_type": "code",
   "execution_count": 83,
   "metadata": {},
   "outputs": [
    {
     "name": "stdout",
     "output_type": "stream",
     "text": [
      "G3: 27 - 63: 7\n",
      "G4: 27 - 63: 4\n",
      "G3 average diameter: 4.945656565656566\n",
      "G4 average diameter: 2.901818181818182\n"
     ]
    }
   ],
   "source": [
    "solve3()"
   ]
  },
  {
   "cell_type": "code",
   "execution_count": 152,
   "metadata": {},
   "outputs": [],
   "source": [
    "def get_diameter(n_list):\n",
    "    dist = []\n",
    "    for s in range(len(n_list)):\n",
    "        color = [0 for _ in range(100)]\n",
    "        d = [0 for _ in range(100)]\n",
    "        q = deque([s])\n",
    "        color[s] = 1\n",
    "        while len(q) > 0:\n",
    "            u = q.popleft()\n",
    "            color[u] = 2\n",
    "            for v in n_list[u]:\n",
    "                if color[v] == 0:\n",
    "                    q.append(v)\n",
    "                    color[v] = 1\n",
    "                    d[v] = d[u] + 1\n",
    "        dist.append(d)\n",
    "    ret = 0\n",
    "    for i in range(len(dist)-1):\n",
    "        for j in range(i+1, len(dist)):\n",
    "            ret = max(ret, dist[i][j])\n",
    "    return ret                    \n",
    "\n",
    "def binary_search(diameter, ok, ng, all_edges):\n",
    "    while abs(ok - ng) > 1:\n",
    "        mid = (ok + ng) // 2\n",
    "        n_list = make_n_list(all_edges[:mid])\n",
    "        if get_diameter(n_list) == diameter:\n",
    "            ok = mid\n",
    "        else:\n",
    "            ng = mid\n",
    "    return ok\n",
    "\n",
    "def solve4():\n",
    "    all_edges = all_inputdata('test001.txt')\n",
    "    minimum_N = get_minimum_N(all_edges)\n",
    "    g3_edges = all_edges[:minimum_N]\n",
    "    g3_n_list = make_n_list(g3_edges)\n",
    "    g3_diameter = get_diameter(g3_n_list)\n",
    "    \n",
    "    # diameter = 2 ~ (minimum_N - 1)を二分探索\n",
    "    ok = minimum_N\n",
    "    ng = 4950\n",
    "    ans_set = set([])\n",
    "    for diameter in range(2, g3_diameter+1):\n",
    "        N = binary_search(diameter, ok, ng, all_edges) + 1\n",
    "        ng = N + 1\n",
    "        ans_set.add(N)\n",
    "    ans = [i for i in ans_set]\n",
    "    ans.sort()\n",
    "    \n",
    "    for N in ans:        \n",
    "        print('{0}: {1}'.format(N, get_diameter(make_n_list(all_edges[:N]))))"
   ]
  },
  {
   "cell_type": "code",
   "execution_count": 153,
   "metadata": {},
   "outputs": [
    {
     "name": "stdout",
     "output_type": "stream",
     "text": [
      "203: 11\n",
      "204: 9\n",
      "208: 8\n",
      "214: 7\n",
      "242: 6\n",
      "318: 5\n",
      "403: 4\n",
      "594: 3\n",
      "1271: 2\n",
      "4950: 1\n"
     ]
    }
   ],
   "source": [
    "solve4()"
   ]
  },
  {
   "cell_type": "code",
   "execution_count": null,
   "metadata": {},
   "outputs": [],
   "source": [
    "[[12, 202], [11, 203], [10, 203], [9, 203], [8, 208], [7, 214], [6, 242], [5, 318], [4, 403], [3, 594], [2, 1271], [1, 4950]]"
   ]
  }
 ],
 "metadata": {
  "jupytext": {
   "text_representation": {
    "extension": ".py",
    "format_name": "light",
    "format_version": "1.4",
    "jupytext_version": "1.1.1"
   }
  },
  "kernelspec": {
   "display_name": "Python 3",
   "language": "python",
   "name": "python3"
  },
  "language_info": {
   "codemirror_mode": {
    "name": "ipython",
    "version": 3
   },
   "file_extension": ".py",
   "mimetype": "text/x-python",
   "name": "python",
   "nbconvert_exporter": "python",
   "pygments_lexer": "ipython3",
   "version": "3.7.4"
  }
 },
 "nbformat": 4,
 "nbformat_minor": 2
}

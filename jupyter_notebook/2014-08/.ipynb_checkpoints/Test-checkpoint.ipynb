{
 "cells": [
  {
   "cell_type": "code",
   "execution_count": 155,
   "metadata": {},
   "outputs": [],
   "source": [
    "import sys\n",
    "sys.path.append('..')"
   ]
  },
  {
   "cell_type": "code",
   "execution_count": 124,
   "metadata": {},
   "outputs": [],
   "source": [
    "import numpy as np"
   ]
  },
  {
   "cell_type": "code",
   "execution_count": 68,
   "metadata": {},
   "outputs": [],
   "source": [
    "# (1) \n",
    "def solve1(file_path):\n",
    "    cnt = 0\n",
    "    with open(file_path, 'r') as f:\n",
    "        txt = f.read()\n",
    "        if txt[-1] == '\\n' and len(txt) > 1:\n",
    "                txt = txt[:-1]\n",
    "        for ch in txt:\n",
    "            if ch == ';':\n",
    "                cnt += 1\n",
    "    return cnt"
   ]
  },
  {
   "cell_type": "code",
   "execution_count": 69,
   "metadata": {},
   "outputs": [
    {
     "data": {
      "text/plain": [
       "41"
      ]
     },
     "execution_count": 69,
     "metadata": {},
     "output_type": "execute_result"
    }
   ],
   "source": [
    "solve1('test001.txt')"
   ]
  },
  {
   "cell_type": "code",
   "execution_count": 95,
   "metadata": {},
   "outputs": [],
   "source": [
    "# (2):\n",
    "def solve2(file_path):\n",
    "    with open(file_path, 'r') as f:\n",
    "        txts = f.readlines()\n",
    "    ret = []\n",
    "    for index, txt in enumerate(txts):\n",
    "        if 'main' in txt:\n",
    "            print('{0}行目: {1}'.format(index+1, txt))"
   ]
  },
  {
   "cell_type": "code",
   "execution_count": 96,
   "metadata": {},
   "outputs": [
    {
     "name": "stdout",
     "output_type": "stream",
     "text": [
      "13行目: int main() {\n",
      "\n",
      "72行目: int main() {\n",
      "\n"
     ]
    }
   ],
   "source": [
    "solve2('test001.txt')"
   ]
  },
  {
   "cell_type": "code",
   "execution_count": 181,
   "metadata": {},
   "outputs": [],
   "source": [
    "# (3)\n",
    "def solve3(file_path):\n",
    "    with open(file_path, 'r') as f:\n",
    "        text = f.readlines()\n",
    "        txts = []\n",
    "        for index, txt in enumerate(text):\n",
    "            if txt[-1] == '\\n':\n",
    "                txts.append(txt[:-1])\n",
    "            else:\n",
    "                txts.append(txt)\n",
    "        s = set()\n",
    "        for index, txt in enumerate(txts):\n",
    "            if index < len(txts) - 1:\n",
    "                next_txt = txts[index + 1]\n",
    "                if txt == next_txt:\n",
    "                    s.add(txt)                \n",
    "    for txt in s:\n",
    "        print(txt)"
   ]
  },
  {
   "cell_type": "code",
   "execution_count": 182,
   "metadata": {},
   "outputs": [
    {
     "name": "stdout",
     "output_type": "stream",
     "text": [
      "['b = a', 'a = a + 1', 'a = 1', 'a = a + 1', 'b = a', 'a = 1']\n"
     ]
    }
   ],
   "source": [
    "solve3('test002.txt')"
   ]
  },
  {
   "cell_type": "code",
   "execution_count": 183,
   "metadata": {},
   "outputs": [],
   "source": [
    "# (4)\n",
    "class Line(object):\n",
    "    def __init__(self, txt, initial_appear, appear_times):\n",
    "        self.txt = txt\n",
    "        self.initial_appear = initial_appear\n",
    "        self.appear_times = appear_times\n",
    "    \n",
    "    def __lt__(self, line):\n",
    "        self.initial_appear < line.initial_appear\n",
    "        \n",
    "    def __repr__(self):\n",
    "        return '初登場行: {0}, 登場回数: {1}, txt: {2}'.format(self.initial_appear, self.appear_times, self.txt)\n",
    "\n",
    "def solve4(file_path):\n",
    "    with open(file_path, 'r') as f:        \n",
    "        text = f.readlines()\n",
    "        txts = []\n",
    "        for index, txt in enumerate(text):\n",
    "            if txt[-1] == '\\n':\n",
    "                txts.append(txt[:-1])\n",
    "            else:\n",
    "                txts.append(txt)\n",
    "                \n",
    "        dic = {} # 'txt': [初登場行, 登場回数]\n",
    "        for index, txt in enumerate(txts):\n",
    "            if txt in dic.keys():\n",
    "                dic[txt][1] += 1\n",
    "            else:\n",
    "                dic[txt] = [index+1, 1]\n",
    "    ret = []\n",
    "    for key in dic.keys():\n",
    "        obj = dic[key]\n",
    "        initial_appear = obj[0]\n",
    "        appear_times = obj[1]\n",
    "        if appear_times > 1:\n",
    "            ret.append(Line(key, initial_appear, appear_times))\n",
    "    \n",
    "    sorted(ret)\n",
    "    for line in ret:\n",
    "        print(line)\n",
    "        \n",
    "\n"
   ]
  },
  {
   "cell_type": "code",
   "execution_count": 184,
   "metadata": {},
   "outputs": [
    {
     "name": "stdout",
     "output_type": "stream",
     "text": [
      "初登場行: 1, 登場回数: 2, txt: b = a\n",
      "初登場行: 2, 登場回数: 2, txt: a = a + 1\n",
      "初登場行: 3, 登場回数: 2, txt: a = 1\n"
     ]
    }
   ],
   "source": [
    "solve4('test002.txt')"
   ]
  },
  {
   "cell_type": "code",
   "execution_count": 201,
   "metadata": {},
   "outputs": [],
   "source": [
    "# (5)\n",
    "def formatnptxt(nparray):\n",
    "    txt = ''\n",
    "    for ch in nparray:\n",
    "        txt += ch\n",
    "    return txt    \n",
    "\n",
    "def solve5(file_path, minimum_len):\n",
    "     with open(file_path, 'r') as f:        \n",
    "        text = f.readlines()\n",
    "        txts = []\n",
    "        max_len = 0\n",
    "        for index, txt in enumerate(text):\n",
    "            if txt[-1] == '\\n':\n",
    "                if len(txt[:-1]) >= minimum_len:\n",
    "                    txts.append(txt[:-1])\n",
    "                    max_len = max(max_len, len(txt[:-1]))\n",
    "            else:\n",
    "                if len(txt) >= minimum_len:\n",
    "                    txts.append(txt)\n",
    "                    max_len = max(max_len, len(txt))                    \n",
    "\n",
    "        formatted_txts = np.array([[' ' for _ in range(max_len)] for _ in range(len(txts))])\n",
    "        for i, txt in enumerate(txts):\n",
    "            for j, ch in enumerate(txt):\n",
    "                formatted_txts[i, j] = ch\n",
    "        ret = set()\n",
    "        sames = 0\n",
    "        for i in range(0, len(formatted_txts) - 1):\n",
    "            txt1 = formatted_txts[i]\n",
    "            for j in range(i+1, len(formatted_txts)):\n",
    "                txt2 = formatted_txts[j]\n",
    "                booleans = (txt1 == txt2)\n",
    "                same_scores = booleans.sum()\n",
    "                if same_scores < max_len and (max_len - same_scores) < 5:\n",
    "                    sames += 1\n",
    "                    pair1 = '{0}\\n{1}'.format(formatnptxt(txt1), formatnptxt(txt2))\n",
    "                    pair2 = '{0}\\n{1}'.format(formatnptxt(txt2), formatnptxt(txt1))                    \n",
    "                    if (not (pair1 in ret)) and (not (pair2 in ret)):\n",
    "                        ret.add(pair1)\n",
    "                    \n",
    "        for set_ele in ret:\n",
    "            set_ele_array = set_ele.split('\\n')\n",
    "            print('{0}, {1}'.format(set_ele_array[0], set_ele_array[1]))\n",
    "        print(sames)"
   ]
  },
  {
   "cell_type": "code",
   "execution_count": 202,
   "metadata": {},
   "outputs": [
    {
     "name": "stdout",
     "output_type": "stream",
     "text": [
      "a = a + 1, a = 1    \n",
      "b = a    , a = 1    \n",
      "b = a    , a = a + 1\n",
      "12\n"
     ]
    }
   ],
   "source": [
    "solve5('test002.txt', 2)"
   ]
  },
  {
   "cell_type": "code",
   "execution_count": 218,
   "metadata": {},
   "outputs": [],
   "source": [
    "# (6)\n",
    "from LCS import LCS\n",
    "\n",
    "def solve6(file_path, minimu_len):\n",
    "    with open(file_path, 'r') as f:\n",
    "        text = f.readlines()\n",
    "        txts = []\n",
    "        for index, txt in enumerate(text):\n",
    "            if txt[-1] == '\\n':\n",
    "                if len(txt[:-1]) >= minimu_len:\n",
    "                    txts.append(txt[:-1])\n",
    "            else:\n",
    "                if len(txt) >= minimu_len:\n",
    "                    txts.append(txt)\n",
    "\n",
    "        s = set()\n",
    "        sames = 0\n",
    "        for i in range(len(txts) - 1):\n",
    "            txt1 = txts[i]\n",
    "            txt1_len = len(txt1)\n",
    "            for j in range(i + 1, len(txts)):\n",
    "                txt2 = txts[j]\n",
    "                txt2_len = len(txt2)\n",
    "                if txt1 != txt2:\n",
    "                    lcs = LCS(txt1, txt2)\n",
    "                    lcs_len = len(lcs)\n",
    "                    diff = abs(txt1_len - txt2_len) + min(txt1_len - lcs_len, txt2_len - lcs_len)\n",
    "#                     print(txt1)\n",
    "#                     print(txt2)\n",
    "#                     print(lcs)\n",
    "#                     print(txt1_len, txt2_len, lcs_len, diff)\n",
    "#                     print('---------')\n",
    "                    if diff < 4:\n",
    "                        sames += 1\n",
    "                        pair1 = '{0}\\n{1}'.format(txt1, txt2)\n",
    "                        pair2 = '{0}\\n{1}'.format(txt2, txt1)\n",
    "                        if (not (pair1 in s)) and (not (pair2 in s)):\n",
    "                            s.add(pair1)\n",
    "        for set_ele in s:\n",
    "            set_ele_array = set_ele.split('\\n')\n",
    "            print('{0}, {1}'.format(set_ele_array[0], set_ele_array[1]))\n",
    "        print(sames)"
   ]
  },
  {
   "cell_type": "code",
   "execution_count": 219,
   "metadata": {},
   "outputs": [
    {
     "name": "stdout",
     "output_type": "stream",
     "text": [
      "b = a, b += a\n",
      "b += a, a = 1\n",
      "b = a, a = 1\n",
      "8\n"
     ]
    }
   ],
   "source": [
    "solve6('test002.txt', 2)"
   ]
  },
  {
   "cell_type": "code",
   "execution_count": null,
   "metadata": {},
   "outputs": [],
   "source": [
    "# (7)\n",
    "def solve7(file_path):"
   ]
  }
 ],
 "metadata": {
  "jupytext": {
   "text_representation": {
    "extension": ".py",
    "format_name": "light",
    "format_version": "1.4",
    "jupytext_version": "1.1.1"
   }
  },
  "kernelspec": {
   "display_name": "Python 3",
   "language": "python",
   "name": "python3"
  },
  "language_info": {
   "codemirror_mode": {
    "name": "ipython",
    "version": 3
   },
   "file_extension": ".py",
   "mimetype": "text/x-python",
   "name": "python",
   "nbconvert_exporter": "python",
   "pygments_lexer": "ipython3",
   "version": "3.7.4"
  }
 },
 "nbformat": 4,
 "nbformat_minor": 2
}

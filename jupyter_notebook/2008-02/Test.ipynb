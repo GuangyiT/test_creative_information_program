{
 "cells": [
  {
   "cell_type": "code",
   "execution_count": 1,
   "metadata": {},
   "outputs": [],
   "source": [
    "import sys\n",
    "sys.path.append('..')"
   ]
  },
  {
   "cell_type": "code",
   "execution_count": 2,
   "metadata": {},
   "outputs": [],
   "source": [
    "import numpy as np"
   ]
  },
  {
   "cell_type": "code",
   "execution_count": 7,
   "metadata": {},
   "outputs": [
    {
     "ename": "SyntaxError",
     "evalue": "unexpected EOF while parsing (<ipython-input-7-04eb9d59630b>, line 34)",
     "output_type": "error",
     "traceback": [
      "\u001b[0;36m  File \u001b[0;32m\"<ipython-input-7-04eb9d59630b>\"\u001b[0;36m, line \u001b[0;32m34\u001b[0m\n\u001b[0;31m    \u001b[0m\n\u001b[0m    ^\u001b[0m\n\u001b[0;31mSyntaxError\u001b[0m\u001b[0;31m:\u001b[0m unexpected EOF while parsing\n"
     ]
    }
   ],
   "source": [
    "from collections import deque\n",
    "\n",
    "class Order(object):\n",
    "    def __init__(self, no, s, e, at):\n",
    "        self.no = no\n",
    "        self.s = s\n",
    "        self.e = e\n",
    "        if (s < e):\n",
    "            self.vec = 'up'\n",
    "        else:\n",
    "            self.vec = 'down'\n",
    "        self.at = at\n",
    "        self.wait = None\n",
    "        self.onb = None\n",
    "        \n",
    "    def __repr__(self):\n",
    "        return 'orderId: {0}, from: {1}, to: {2}, vec: {3}\\norderedAt: {4}, wait-time: {5}, onboard-time: {6}'.format(self.no, self.s, self.e, self.vec, self.at, self.wait, self.onb)\n",
    "\n",
    "# エレベータ    \n",
    "class Ele(object):\n",
    "    def __init__(self, allord):\n",
    "        self.floor = 0\n",
    "        # stop, move\n",
    "        self.status = 'stop'\n",
    "        # close, open\n",
    "        self.door = 'close'\n",
    "        # off, up, down\n",
    "        self.lamp = 'off'\n",
    "        self.omega = None\n",
    "        self.member = 0\n",
    "        self.uf = deque([])\n",
    "        self.df = deque([])\n",
    "        self.allord = allord\n",
    "        self.time = 0\n",
    "    def __repr__(self):\n",
    "        return 'floor: {0}, member: {6}, status: {1}, door: {2}, lamp: {3}, omega: {4}\\nplan: {5}'.format(self.floor, self.status, self.door, self.lamp, self.omega, self.plan, self.member)    \n",
    "\n",
    "    def update(self, floor, status, door, lamp, omega, member):\n",
    "        orders = []\n",
    "        while (ordIdx < len(allord) and allord[ordIdx].at == self.time):\n",
    "            orders.append(allord[ordIdx])\n",
    "        if len(orders) > 0:\n",
    "            \n",
    "        "
   ]
  },
  {
   "cell_type": "code",
   "execution_count": 6,
   "metadata": {},
   "outputs": [
    {
     "data": {
      "text/plain": [
       "orderId: 1, from: 2, to: 3, vec: up\n",
       "orderedAt: 4, wait-time: None, onboard-time: None"
      ]
     },
     "execution_count": 6,
     "metadata": {},
     "output_type": "execute_result"
    }
   ],
   "source": [
    "a = Order(1, 2, 3, 4)\n",
    "a"
   ]
  },
  {
   "cell_type": "code",
   "execution_count": null,
   "metadata": {},
   "outputs": [],
   "source": []
  }
 ],
 "metadata": {
  "jupytext": {
   "text_representation": {
    "extension": ".py",
    "format_name": "light",
    "format_version": "1.4",
    "jupytext_version": "1.1.1"
   }
  },
  "kernelspec": {
   "display_name": "Python 3",
   "language": "python",
   "name": "python3"
  },
  "language_info": {
   "codemirror_mode": {
    "name": "ipython",
    "version": 3
   },
   "file_extension": ".py",
   "mimetype": "text/x-python",
   "name": "python",
   "nbconvert_exporter": "python",
   "pygments_lexer": "ipython3",
   "version": "3.7.4"
  }
 },
 "nbformat": 4,
 "nbformat_minor": 2
}

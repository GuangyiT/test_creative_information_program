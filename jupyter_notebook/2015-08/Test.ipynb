{
 "cells": [
  {
   "cell_type": "code",
   "execution_count": 6,
   "metadata": {},
   "outputs": [],
   "source": [
    "# (1\n",
    "parse1obj = {\n",
    "    '0' : 0,\n",
    "    '1' : 1,\n",
    "    '2' : 2,\n",
    "    '3' : 3\n",
    "}\n",
    "\n",
    "def FtoT(f):\n",
    "    f = str(f)\n",
    "    ret = 0\n",
    "    for i in range(0, len(f)):\n",
    "        idx = len(f) - i - 1\n",
    "        ret += parse1obj[f[idx]] * (4**(i))\n",
    "        \n",
    "    return ret"
   ]
  },
  {
   "cell_type": "code",
   "execution_count": 7,
   "metadata": {},
   "outputs": [
    {
     "data": {
      "text/plain": [
       "27"
      ]
     },
     "execution_count": 7,
     "metadata": {},
     "output_type": "execute_result"
    }
   ],
   "source": [
    "FtoT(123)"
   ]
  },
  {
   "cell_type": "code",
   "execution_count": 13,
   "metadata": {},
   "outputs": [],
   "source": [
    "# (2\n",
    "parse2obj = {\n",
    "    'a': 0,\n",
    "    'b': 1,\n",
    "    'c': 2,\n",
    "    'd': 3,\n",
    "    'e': 4,\n",
    "    'f': 5,\n",
    "    'g': 6,\n",
    "    'h': 7\n",
    "}\n",
    "\n",
    "def EtoT(e):\n",
    "    ret = 0\n",
    "    for i in range(0, len(e)):\n",
    "        idx = len(e) - i - 1\n",
    "        ret += parse2obj[e[idx]] * (8**(i))\n",
    "        \n",
    "    return ret"
   ]
  },
  {
   "cell_type": "code",
   "execution_count": 15,
   "metadata": {},
   "outputs": [
    {
     "data": {
      "text/plain": [
       "83"
      ]
     },
     "execution_count": 15,
     "metadata": {},
     "output_type": "execute_result"
    }
   ],
   "source": [
    "EtoT('bcd')"
   ]
  },
  {
   "cell_type": "code",
   "execution_count": 16,
   "metadata": {},
   "outputs": [],
   "source": [
    "# (3\n",
    "# ans. 3737"
   ]
  },
  {
   "cell_type": "code",
   "execution_count": 43,
   "metadata": {},
   "outputs": [],
   "source": [
    "# (4\n",
    "dict4 = {\n",
    "    'I': 1,\n",
    "    'V': 5, \n",
    "    'X': 10,\n",
    "    'L': 50,\n",
    "    'C': 100,\n",
    "    'D': 500,\n",
    "    'M': 1000\n",
    "}\n",
    "\n",
    "dict4_1 = {\n",
    "    'IV': 4,\n",
    "    'IX': 9,\n",
    "    'XL': 40,\n",
    "    'XC': 90,\n",
    "    'CD': 400,\n",
    "    'CM': 900\n",
    "}\n",
    "\n",
    "# ruturn bool\n",
    "def is_reverse(cur_ch, next_ch):\n",
    "    if (cur_ch == 'I'):\n",
    "        return next_ch == 'V' or next_ch == 'X'\n",
    "    if (cur_ch == 'X'):\n",
    "        return next_ch == 'L' or next_ch == 'C'\n",
    "    if (cur_ch == 'C'):\n",
    "        return next_ch == 'D' or next_ch == 'M'\n",
    "    return False\n",
    "\n",
    "def parser4(rome):\n",
    "    ret = 0\n",
    "    i = 0\n",
    "    while (i < len(rome)):\n",
    "        cur_ch = rome[i]\n",
    "        if (i < len(rome) - 1):\n",
    "            next_ch = rome[i + 1]\n",
    "            if (is_reverse(cur_ch, next_ch)):\n",
    "                key_str =  cur_ch + next_ch\n",
    "                ret += dict4_1[key_str]\n",
    "                i += 2\n",
    "            else:\n",
    "                ret += dict4[cur_ch]\n",
    "                i += 1\n",
    "        else:\n",
    "            ret += dict4[cur_ch]\n",
    "            i += 1\n",
    "    return ret        "
   ]
  },
  {
   "cell_type": "code",
   "execution_count": 51,
   "metadata": {},
   "outputs": [
    {
     "data": {
      "text/plain": [
       "4"
      ]
     },
     "execution_count": 51,
     "metadata": {},
     "output_type": "execute_result"
    }
   ],
   "source": [
    "parser4('MCMIV')"
   ]
  },
  {
   "cell_type": "code",
   "execution_count": 72,
   "metadata": {},
   "outputs": [],
   "source": [
    "# (5\n",
    "def sub_parser5(num, digit):\n",
    "    if (digit == 4):\n",
    "        return 'M' * num\n",
    "    elif (digit == 3):\n",
    "        if (num == 9):\n",
    "            return 'CM'\n",
    "        elif (num == 4):\n",
    "            return 'CD'\n",
    "        elif (num >= 5 and num <= 8):\n",
    "            return 'D' + 'C' * (num - 5) \n",
    "        else:\n",
    "            return 'C' * num\n",
    "    elif (digit == 2):\n",
    "        if (num == 9):\n",
    "            return 'XC'\n",
    "        elif (num == 4):\n",
    "            return 'XL'\n",
    "        elif (num >= 5 and num <= 8):\n",
    "            return 'L' + 'X' * (num - 5) \n",
    "        else:\n",
    "            return 'X' * num\n",
    "    elif (digit == 1):\n",
    "        if (num == 9):\n",
    "            return 'IX'\n",
    "        elif (num == 4):\n",
    "            return 'IV'\n",
    "        elif (num >= 5 and num <= 8):\n",
    "            return 'V' + 'I' * (num - 5) \n",
    "        else:\n",
    "            return 'I' * num\n",
    "\n",
    "def parser5(t):\n",
    "    str_t = str(t)    \n",
    "    for i in range(len(str_t), 4):\n",
    "        str_t = '0' + str_t\n",
    "    ret = ''\n",
    "    for i in range(0, len(str_t)):\n",
    "        num = int(str_t[i])\n",
    "        ret += sub_parser5(num, len(str_t) - i)\n",
    "    return ret"
   ]
  },
  {
   "cell_type": "code",
   "execution_count": 127,
   "metadata": {},
   "outputs": [
    {
     "data": {
      "text/plain": [
       "'MCMIV'"
      ]
     },
     "execution_count": 127,
     "metadata": {},
     "output_type": "execute_result"
    }
   ],
   "source": [
    "parser5(1904)"
   ]
  },
  {
   "cell_type": "code",
   "execution_count": 81,
   "metadata": {},
   "outputs": [],
   "source": [
    "# (6\n",
    "def parser6(t):\n",
    "    str_t = str(t)    \n",
    "    for i in range(len(str_t), 4):\n",
    "        str_t = '0' + str_t\n",
    "    str_t = str_t[::-1]\n",
    "    fir_num = int(str_t[0])\n",
    "    sec_num = int(str_t[1])\n",
    "    thr_num = int(str_t[2])\n",
    "    for_num = int(str_t[3])\n",
    "    if (fir_num == 9):\n",
    "        if (sec_num == 9):\n",
    "            if (thr_num == 9):\n",
    "                return (for_num * 'M' + 'IM')\n",
    "            elif (thr_num == 4):\n",
    "                return (for_num * 'M' + 'ID')            \n",
    "            else:\n",
    "                return sub_parser5(for_num, 4) + sub_parser5(thr_num, 4) + 'IC'\n",
    "        elif (sec_num == 4):\n",
    "            return sub_parser5(for_num, 4) + sub_parser5(thr_num, 3) + 'IL'\n",
    "        else:\n",
    "            return sub_parser5(for_nu, 4) + sub_parser5(thr_num, 3) + sub_parser5(sec_num, 2) + 'IX'\n",
    "    else:\n",
    "        return parser5(t)               "
   ]
  },
  {
   "cell_type": "code",
   "execution_count": 87,
   "metadata": {},
   "outputs": [
    {
     "data": {
      "text/plain": [
       "'CIL'"
      ]
     },
     "execution_count": 87,
     "metadata": {},
     "output_type": "execute_result"
    }
   ],
   "source": [
    "parser6(149)"
   ]
  },
  {
   "cell_type": "code",
   "execution_count": 121,
   "metadata": {},
   "outputs": [],
   "source": [
    "# (7\n",
    "dict7 = {\n",
    "    'zero': 0,\n",
    "    'one': 1,\n",
    "    'two': 2,\n",
    "    'three': 3,\n",
    "    'four': 4,\n",
    "    'five': 5,\n",
    "    'six': 6,\n",
    "    'seven': 7,\n",
    "    'eight': 8,\n",
    "    'nine': 9,\n",
    "    'ten': 10,\n",
    "    'eleven': 11,\n",
    "    'twelve': 12,\n",
    "    'thirteen': 13,\n",
    "    'fourteen': 14,\n",
    "    'fifteen': 15,\n",
    "    'sixteen': 16,\n",
    "    'seventeen': 17,\n",
    "    'eighteen': 18,\n",
    "    'nineteen': 19,\n",
    "    'twenty': 20,\n",
    "    'thirty': 30,\n",
    "    'forty': 40,\n",
    "    'fifty': 50,\n",
    "    'sixty': 60,\n",
    "    'seventy': 70,\n",
    "    'eighty': 80,\n",
    "    'ninety': 90,\n",
    "    'hundred': 100,\n",
    "    'thousand': 1000,\n",
    "}\n",
    "\n",
    "def parser7(s):\n",
    "    # 番兵追加\n",
    "    s += ' zero'\n",
    "    ret = 0\n",
    "    array_s = s.split()\n",
    "    if ('thousand' in array_s):\n",
    "        t_s = ' '.join(array_s)\n",
    "        t_s = t_s.split('thousand')\n",
    "        t_0 = t_s[0]\n",
    "        t_s0 = t_0.split()\n",
    "        t_1 = t_s[1]\n",
    "        t_s1 = t_1.split()\n",
    "        tmp1 = 0\n",
    "        for i in range(0, len(t_s0)):\n",
    "            word = t_s0[i]\n",
    "            tmp1 += dict7[word]\n",
    "        ret += tmp1 * 1000\n",
    "        \n",
    "        if ('hundred' in t_s1):\n",
    "            h_s = t_1.split('hundred')\n",
    "            h_0 = h_s[0]\n",
    "            h_s0 = h_0.split()\n",
    "            h_1 = h_s[1]\n",
    "            h_s1 = h_1.split()\n",
    "            tmp2 = 0\n",
    "            for j in range(0, len(h_s0)):\n",
    "                word = h_s0[j]\n",
    "                tmp2 += dict7[word]\n",
    "            ret += tmp2 * 100\n",
    "            \n",
    "            for k in range(0, len(h_s1)):\n",
    "                word = h_s1[k]\n",
    "                ret += dict7[word]\n",
    "        else:        \n",
    "            for j in range(0, len(t_s1)):\n",
    "                word = t_s1[j]\n",
    "                ret += dict7[word]\n",
    "    else:            \n",
    "        for i in range(0, len(array_s)):\n",
    "            word = array_s[i]\n",
    "            if (dict7[word] == 100):\n",
    "                ret *= 100\n",
    "            else:\n",
    "                ret += dict7[word]\n",
    "    return ret        "
   ]
  },
  {
   "cell_type": "code",
   "execution_count": 128,
   "metadata": {},
   "outputs": [
    {
     "data": {
      "text/plain": [
       "54312"
      ]
     },
     "execution_count": 128,
     "metadata": {},
     "output_type": "execute_result"
    }
   ],
   "source": [
    "parser7('fifty four thousand three hundred twelve')"
   ]
  },
  {
   "cell_type": "code",
   "execution_count": null,
   "metadata": {},
   "outputs": [],
   "source": []
  }
 ],
 "metadata": {
  "jupytext": {
   "main_language": "python",
   "text_representation": {
    "extension": ".py",
    "format_name": "light",
    "format_version": "1.4",
    "jupytext_version": "1.1.1"
   }
  },
  "kernelspec": {
   "display_name": "Python 3",
   "language": "python",
   "name": "python3"
  },
  "language_info": {
   "codemirror_mode": {
    "name": "ipython",
    "version": 3
   },
   "file_extension": ".py",
   "mimetype": "text/x-python",
   "name": "python",
   "nbconvert_exporter": "python",
   "pygments_lexer": "ipython3",
   "version": "3.7.4"
  }
 },
 "nbformat": 4,
 "nbformat_minor": 2
}

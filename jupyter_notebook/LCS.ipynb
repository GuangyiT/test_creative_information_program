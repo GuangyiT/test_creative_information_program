{
 "cells": [
  {
   "cell_type": "code",
   "execution_count": 1,
   "metadata": {},
   "outputs": [],
   "source": [
    "import numpy as np"
   ]
  },
  {
   "cell_type": "code",
   "execution_count": 6,
   "metadata": {},
   "outputs": [],
   "source": [
    "def LCS(s, t):    \n",
    "    # dp[i, j]: sのi番目までの文字列とtのj番目までの文字列を比較した時のlcs\n",
    "    dp = [[0 for _ in range(len(t) + 1)] for _ in range(len(s) + 1)]\n",
    "    for i in range(1, len(s) + 1):\n",
    "        x = s[i - 1]\n",
    "        for j in range(1, len(t) + 1):\n",
    "            y = t[j - 1]\n",
    "            if (x == y):\n",
    "                dp[i][j] = dp[i-1][j-1] + 1\n",
    "            else:\n",
    "                dp[i][j] = max(dp[i][j-1], dp[i-1][j])\n",
    "    ret = \"\"\n",
    "    i = len(s)\n",
    "    j = len(t)\n",
    "    # 後ろから格納してlcs文字列を作成\n",
    "    while (1):\n",
    "        if (i == 0 or j == 0):\n",
    "            break\n",
    "        if (dp[i][j] == dp[i-1][j]):\n",
    "            i-=1\n",
    "        elif (dp[i][j] == dp[i][j-1]):\n",
    "            j-=1\n",
    "        else:\n",
    "            i-=1\n",
    "            j-=1\n",
    "            ret+=s[i]\n",
    "    # string reverse\n",
    "    return ret[::-1]"
   ]
  },
  {
   "cell_type": "code",
   "execution_count": 7,
   "metadata": {},
   "outputs": [
    {
     "data": {
      "text/plain": [
       "'aaadara'"
      ]
     },
     "execution_count": 7,
     "metadata": {},
     "output_type": "execute_result"
    }
   ],
   "source": [
    "LCS(\"abracadabra\", \"avadakedavra\")"
   ]
  }
 ],
 "metadata": {
  "jupytext": {
   "text_representation": {
    "extension": ".py",
    "format_name": "light",
    "format_version": "1.4",
    "jupytext_version": "1.1.1"
   }
  },
  "kernelspec": {
   "display_name": "Python 3",
   "language": "python",
   "name": "python3"
  },
  "language_info": {
   "codemirror_mode": {
    "name": "ipython",
    "version": 3
   },
   "file_extension": ".py",
   "mimetype": "text/x-python",
   "name": "python",
   "nbconvert_exporter": "python",
   "pygments_lexer": "ipython3",
   "version": "3.7.4"
  }
 },
 "nbformat": 4,
 "nbformat_minor": 2
}

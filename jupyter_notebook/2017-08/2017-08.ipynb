{
 "cells": [
  {
   "cell_type": "code",
   "execution_count": 2,
   "metadata": {},
   "outputs": [],
   "source": [
    "# (1) \n",
    "# A,Bそれぞれm^2n"
   ]
  },
  {
   "cell_type": "code",
   "execution_count": 32,
   "metadata": {},
   "outputs": [],
   "source": [
    "# (2)\n",
    "file_path = 'mat1_sample.txt'\n",
    "\n",
    "def solve():    \n",
    "    with open(file_path, 'r') as f:\n",
    "        text = f.read()\n",
    "        text = text.split('.')[0]\n",
    "        text_array = text.split(',')\n",
    "        mat = []\n",
    "        for text in text_array:\n",
    "            row = text.split(' ')\n",
    "            for index, strnum in enumerate(row):\n",
    "                row[index] = int(strnum)\n",
    "            mat.append(row)\n",
    "        row_num = len(mat)\n",
    "        col_num = len(mat[0])\n",
    "        print(row_num, col_num)\n",
    "    "
   ]
  },
  {
   "cell_type": "code",
   "execution_count": 33,
   "metadata": {},
   "outputs": [
    {
     "name": "stdout",
     "output_type": "stream",
     "text": [
      "3 4\n"
     ]
    }
   ],
   "source": [
    "solve()"
   ]
  },
  {
   "cell_type": "code",
   "execution_count": 43,
   "metadata": {},
   "outputs": [],
   "source": [
    "# (3)\n",
    "file_path1 = 'mat1_sample.txt'\n",
    "file_path2 = 'mat2_sample.txt'\n",
    "import numpy as np\n",
    "\n",
    "def parse_file(file_path):    \n",
    "    with open(file_path, 'r') as f:\n",
    "        text = f.read()\n",
    "        text = text.split('.')[0]\n",
    "        text_array = text.split(',')\n",
    "        mat = []\n",
    "        for text in text_array:\n",
    "            row = text.split(' ')\n",
    "            for index, strnum in enumerate(row):\n",
    "                row[index] = int(strnum)\n",
    "            mat.append(row)\n",
    "        return np.array(mat)\n",
    "    \n",
    "def solve(file_path1, file_path2):\n",
    "    mat1 = parse_file(file_path1)\n",
    "    mat2 = parse_file(file_path2)\n",
    "    mat = np.dot(mat1, mat2)\n",
    "    ans = 0    \n",
    "    for i in range(0, len(mat)):\n",
    "#         print(mat[i, i])\n",
    "        ans += mat[i, i]\n",
    "    return ans    "
   ]
  },
  {
   "cell_type": "code",
   "execution_count": 44,
   "metadata": {},
   "outputs": [
    {
     "data": {
      "text/plain": [
       "440"
      ]
     },
     "execution_count": 44,
     "metadata": {},
     "output_type": "execute_result"
    }
   ],
   "source": [
    "solve(file_path1, file_path2)"
   ]
  },
  {
   "cell_type": "code",
   "execution_count": 120,
   "metadata": {},
   "outputs": [],
   "source": [
    "# (4)\n",
    "class Ele(object):\n",
    "    def __init__(self, mat_name:str, row:int, col:int):\n",
    "        self.mat_name = mat_name\n",
    "        self.row = row\n",
    "        self.col = col\n",
    "    def __repr(self):\n",
    "        return 'mat_name: {0}, row_idx: {1}, col_idx: {2}'.fromat(self.mat_name, self.row, self.col)\n",
    "\n",
    "def solve(m, n, s):\n",
    "    # 次にpushするcacheのidx\n",
    "    next_cache_idx = 0\n",
    "    # cacheでidxに入っているものを指定\n",
    "    cache = np.empty(s, dtype=Ele)\n",
    "    # memmoryでmem_a[i, j] ai,jの入っているキャッシュのインデックスを返すキャッシュに入ってない場合-1\n",
    "    mem_a = -1*np.ones((m, n), dtype=np.int)\n",
    "    mem_b = -1*np.ones((n, m), dtype=np.int)\n",
    "    a_num = 0\n",
    "    b_num = 0\n",
    "    for i in range(0, m):\n",
    "        for j in range(0, m):\n",
    "            for k in range(0, n):\n",
    "                # ai,k\n",
    "                if (mem_a[i, k] < 0): # キャッシュにない\n",
    "                    a_num += 1\n",
    "                    \n",
    "                    if (cache[next_cache_idx] != None): # 入れるキャッシュの場所が空でない\n",
    "                        # 追い出す\n",
    "                        ele = cache[next_cache_idx]\n",
    "                        # memを更新\n",
    "                        if (ele.mat_name == 'A'):\n",
    "                            mem_a[ele.row][ele.col] = -1\n",
    "                        elif (ele.mat_name == 'B'):\n",
    "                            mem_b[ele.row][ele.col] = -1\n",
    "                    \n",
    "                    ele = Ele('A', i, k)\n",
    "                    cache[next_cache_idx] = ele # cacheに入れる\n",
    "                    mem_a[i, k] = 1 # cacheにある\n",
    "                    next_cache_idx += 1\n",
    "                    if (next_cache_idx >= s):\n",
    "                        next_cache_idx = 0\n",
    "                # bk,j\n",
    "                if (mem_b[k, j] < 0): # キャッシュにない\n",
    "                    b_num += 1\n",
    "                    \n",
    "                    if (cache[next_cache_idx] != None): # 入れるキャッシュの場所が空でない\n",
    "                        # 追い出す\n",
    "                        ele = cache[next_cache_idx]\n",
    "                        # memを更新\n",
    "                        if (ele.mat_name == 'A'):\n",
    "                            mem_a[ele.row][ele.col] = -1\n",
    "                        elif (ele.mat_name == 'B'):\n",
    "                            mem_b[ele.row][ele.col] = -1\n",
    "                    \n",
    "                    ele = Ele('B', k, j)\n",
    "                    cache[next_cache_idx] = ele # cacheに入れる\n",
    "                    next_cache_idx += 1\n",
    "                    mem_b[k, j] = 1 # cacheにある\n",
    "                    if (next_cache_idx >= s):\n",
    "                        next_cache_idx = 0\n",
    "    return a_num, b_num                            \n"
   ]
  },
  {
   "cell_type": "code",
   "execution_count": 121,
   "metadata": {},
   "outputs": [
    {
     "data": {
      "text/plain": [
       "(640, 1280)"
      ]
     },
     "execution_count": 121,
     "metadata": {},
     "output_type": "execute_result"
    }
   ],
   "source": [
    "solve(8, 20, 40)"
   ]
  },
  {
   "cell_type": "code",
   "execution_count": 48,
   "metadata": {},
   "outputs": [],
   "source": [
    "# (5)\n",
    "# u p v p w p"
   ]
  },
  {
   "cell_type": "code",
   "execution_count": 122,
   "metadata": {},
   "outputs": [],
   "source": [
    "# (6)\n",
    "def solve(m, n, p, s):    \n",
    "    # cacheでidxに入っているものを指定\n",
    "    cache = np.empty(s, dtype=Ele)\n",
    "    # memmoryでmem_a[i, j] ai,jの入っているキャッシュのインデックスを返すキャッシュに入ってない場合-1\n",
    "    mem_a = -1*np.ones((m, n), dtype=np.int)\n",
    "    mem_b = -1*np.ones((n, m), dtype=np.int)\n",
    "    data = { 'a_num': 0, 'b_num': 0, 'next_cache_idx': 0 }\n",
    "    \n",
    "    def check_cache():\n",
    "        if (cache[data['next_cache_idx']] != None): # 入れるキャッシュの場所が空でない\n",
    "            ele = cache[data['next_cache_idx']]\n",
    "            # memを更新\n",
    "            if (ele.mat_name == 'A'):\n",
    "                mem_a[ele.row][ele.col] = -1\n",
    "            elif (ele.mat_name == 'B'):\n",
    "                mem_b[ele.row][ele.col] = -1\n",
    "                \n",
    "    def check_A(i, k):\n",
    "        if (mem_a[i, k] < 0): # キャッシュにない\n",
    "            data['a_num'] += 1\n",
    "\n",
    "            check_cache()\n",
    "\n",
    "            ele = Ele('A', i, k)\n",
    "            cache[data['next_cache_idx']] = ele # cacheに入れる\n",
    "            data['next_cache_idx'] += 1\n",
    "            mem_a[i, k] = 1\n",
    "            if (data['next_cache_idx'] >= s):\n",
    "                data['next_cache_idx'] = 0\n",
    "    \n",
    "    def check_B(k, j):\n",
    "        if (mem_b[k, j] < 0): # キャッシュにない\n",
    "            data['b_num'] += 1\n",
    "\n",
    "            check_cache()\n",
    "\n",
    "            ele = Ele('B', k, j)\n",
    "            cache[data['next_cache_idx']] = ele # cacheに入れる\n",
    "            data['next_cache_idx'] += 1\n",
    "            mem_b[k, j] = 1\n",
    "            if (data['next_cache_idx'] >= s):\n",
    "                data['next_cache_idx'] = 0\n",
    "    \n",
    "    u = 0\n",
    "    while (u < m):\n",
    "        v = 0\n",
    "        while (v < m):\n",
    "            w = 0\n",
    "            while (w < n):\n",
    "                i = u\n",
    "                while (i < u + p):\n",
    "                    j = v\n",
    "                    while (j < v + p):\n",
    "                        k = w\n",
    "                        while (k < w + p):\n",
    "                            # ai,k\n",
    "                            check_A(i,k)\n",
    "                            # bk,j\n",
    "                            check_B(k,j)\n",
    "                            k += 1\n",
    "                        j += 1\n",
    "                    i += 1\n",
    "                w += p\n",
    "            v += p\n",
    "        u += p\n",
    "                            \n",
    "    return data\n",
    "    "
   ]
  },
  {
   "cell_type": "code",
   "execution_count": 123,
   "metadata": {},
   "outputs": [
    {
     "data": {
      "text/plain": [
       "{'a_num': 320, 'b_num': 320, 'next_cache_idx': 0}"
      ]
     },
     "execution_count": 123,
     "metadata": {},
     "output_type": "execute_result"
    }
   ],
   "source": [
    "solve(8, 20, 4, 40)"
   ]
  },
  {
   "cell_type": "code",
   "execution_count": 129,
   "metadata": {},
   "outputs": [],
   "source": [
    "# (7)\n",
    "import math\n",
    "import sys\n",
    "sys.path.append('..')\n",
    "\n",
    "from Divisors import *\n",
    "\n",
    "def gcd(m, n):\n",
    "    return math.gcd(m, n)\n",
    "\n",
    "def get_p(m, n, s):\n",
    "    g = gcd(m, n)\n",
    "    g = gcd(g, s)\n",
    "    tmp = int(m * n / g)\n",
    "    divs = divisors(tmp)\n",
    "    tmp1 = divs[int(len(divs) / 2)]\n",
    "    tmp2 = divs[int(len(divs) / 2) + 1]\n",
    "    \n",
    "    \n",
    "\n",
    "def solve(m, n, s):\n",
    "    p = 50\n",
    "    # cacheでidxに入っているものを指定\n",
    "    cache = np.empty(s, dtype=Ele)\n",
    "    # memmoryでmem_a[i, j] ai,jの入っているキャッシュのインデックスを返すキャッシュに入ってない場合-1\n",
    "    mem_a = -1*np.ones((m, n), dtype=np.int)\n",
    "    mem_b = -1*np.ones((n, m), dtype=np.int)\n",
    "    data = { 'a_num': 0, 'b_num': 0, 'next_cache_idx': 0 }\n",
    "    \n",
    "    def check_cache():\n",
    "        if (cache[data['next_cache_idx']] != None): # 入れるキャッシュの場所が空でない\n",
    "            ele = cache[data['next_cache_idx']]\n",
    "            # memを更新\n",
    "            if (ele.mat_name == 'A'):\n",
    "                mem_a[ele.row][ele.col] = -1\n",
    "            elif (ele.mat_name == 'B'):\n",
    "                mem_b[ele.row][ele.col] = -1\n",
    "                \n",
    "    def check_A(i, k):\n",
    "        if (mem_a[i, k] < 0): # キャッシュにない\n",
    "            data['a_num'] += 1\n",
    "\n",
    "            check_cache()\n",
    "\n",
    "            ele = Ele('A', i, k)\n",
    "            cache[data['next_cache_idx']] = ele # cacheに入れる\n",
    "            data['next_cache_idx'] += 1\n",
    "            mem_a[i, k] = 1\n",
    "            if (data['next_cache_idx'] >= s):\n",
    "                data['next_cache_idx'] = 0\n",
    "    \n",
    "    def check_B(k, j):\n",
    "        if (mem_b[k, j] < 0): # キャッシュにない\n",
    "            data['b_num'] += 1\n",
    "\n",
    "            check_cache()\n",
    "\n",
    "            ele = Ele('B', k, j)\n",
    "            cache[data['next_cache_idx']] = ele # cacheに入れる\n",
    "            data['next_cache_idx'] += 1\n",
    "            mem_b[k, j] = 1\n",
    "            if (data['next_cache_idx'] >= s):\n",
    "                data['next_cache_idx'] = 0\n",
    "    \n",
    "    u = 0\n",
    "    while (u < m):\n",
    "        v = 0\n",
    "        while (v < m):\n",
    "            w = 0\n",
    "            while (w < n):\n",
    "                i = u\n",
    "                while (i < u + p):\n",
    "                    j = v\n",
    "                    while (j < v + p):\n",
    "                        k = w\n",
    "                        while (k < w + p):\n",
    "                            # ai,k\n",
    "                            check_A(i,k)\n",
    "                            # bk,j\n",
    "                            check_B(k,j)\n",
    "                            k += 1\n",
    "                        j += 1\n",
    "                    i += 1\n",
    "                w += p\n",
    "            v += p\n",
    "        u += p\n",
    "                            \n",
    "    return data"
   ]
  },
  {
   "cell_type": "code",
   "execution_count": 130,
   "metadata": {},
   "outputs": [
    {
     "data": {
      "text/plain": [
       "{'a_num': 600000, 'b_num': 6000000, 'next_cache_idx': 0}"
      ]
     },
     "execution_count": 130,
     "metadata": {},
     "output_type": "execute_result"
    }
   ],
   "source": [
    "solve(200, 150, 600)"
   ]
  },
  {
   "cell_type": "code",
   "execution_count": 66,
   "metadata": {},
   "outputs": [
    {
     "data": {
      "text/plain": [
       "False"
      ]
     },
     "execution_count": 66,
     "metadata": {},
     "output_type": "execute_result"
    }
   ],
   "source": [
    "cache[0] != None"
   ]
  },
  {
   "cell_type": "code",
   "execution_count": 126,
   "metadata": {},
   "outputs": [
    {
     "data": {
      "text/plain": [
       "50"
      ]
     },
     "execution_count": 126,
     "metadata": {},
     "output_type": "execute_result"
    }
   ],
   "source": [
    "gcd(200, 150)"
   ]
  },
  {
   "cell_type": "code",
   "execution_count": 131,
   "metadata": {},
   "outputs": [
    {
     "data": {
      "text/plain": [
       "1"
      ]
     },
     "execution_count": 131,
     "metadata": {},
     "output_type": "execute_result"
    }
   ],
   "source": [
    "int(3/2)"
   ]
  },
  {
   "cell_type": "code",
   "execution_count": null,
   "metadata": {},
   "outputs": [],
   "source": []
  }
 ],
 "metadata": {
  "jupytext": {
   "main_language": "python",
   "text_representation": {
    "extension": ".py",
    "format_name": "light",
    "format_version": "1.4",
    "jupytext_version": "1.1.1"
   }
  },
  "kernelspec": {
   "display_name": "Python 3",
   "language": "python",
   "name": "python3"
  },
  "language_info": {
   "codemirror_mode": {
    "name": "ipython",
    "version": 3
   },
   "file_extension": ".py",
   "mimetype": "text/x-python",
   "name": "python",
   "nbconvert_exporter": "python",
   "pygments_lexer": "ipython3",
   "version": "3.7.4"
  }
 },
 "nbformat": 4,
 "nbformat_minor": 2
}

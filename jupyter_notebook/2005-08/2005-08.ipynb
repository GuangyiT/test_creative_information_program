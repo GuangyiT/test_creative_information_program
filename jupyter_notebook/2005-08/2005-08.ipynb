{
 "cells": [
  {
   "cell_type": "code",
   "execution_count": 1,
   "metadata": {
    "lines_to_next_cell": 2
   },
   "outputs": [
    {
     "ename": "IndentationError",
     "evalue": "expected an indented block (<ipython-input-1-a5f58f297cd4>, line 55)",
     "output_type": "error",
     "traceback": [
      "\u001b[0;36m  File \u001b[0;32m\"<ipython-input-1-a5f58f297cd4>\"\u001b[0;36m, line \u001b[0;32m55\u001b[0m\n\u001b[0;31m    def phase_back(self):\u001b[0m\n\u001b[0m      ^\u001b[0m\n\u001b[0;31mIndentationError\u001b[0m\u001b[0;31m:\u001b[0m expected an indented block\n"
     ]
    }
   ],
   "source": [
    "import numpy as np\n",
    "class Field(object):\n",
    "    def __init__(self, idx:int, groups):\n",
    "        self.idx = idx\n",
    "        # ex [[1,2,4,5], [3, 6], [7]]\n",
    "        self.groups = groups\n",
    "    def __repr__(self):\n",
    "        return '(idx: {0}, groups: {1})'.format(self.idx, self.groups)\n",
    "\n",
    "class Point(object):\n",
    "    def __init__(self, idx:int, life: int):\n",
    "        self.idx = int(idx)\n",
    "        self.life = int(life)\n",
    "        # 隣接の点のidxを格納していく,最大3つ\n",
    "        self.dists = []\n",
    "        # 面している領域のidxを格納していく、最大3つ\n",
    "        self.fields = []\n",
    "    def __repr__(self):\n",
    "        return '( idx: {0}, life: {1}, dists: {2}, fields: {3} )'.format(self.idx, self.life, self.dists, self.fields)\n",
    "\n",
    "\n",
    "class Phase(object):\n",
    "    def __init__(self, points, fields, player, hand):\n",
    "        # 初期局面 { 'player': 0, 'hand': 0 }\n",
    "        self.phase = { 'player': player, 'hand': hand }\n",
    "        self.points = points\n",
    "        self.fields = fields\n",
    "    def add_point(self, point):\n",
    "        self.points.append(point)\n",
    "    def add_field(self, field):\n",
    "        self.fields.append(field)\n",
    "    \n",
    "    def __repr__(self):\n",
    "        ret = ''\n",
    "        if (self.phase['player'] == 0):\n",
    "            ret += '初期局面\\n'\n",
    "        elif (self.phase['player'] == 1):\n",
    "            ret += '先手第{0}手\\n'.format(self.phase['hand'])\n",
    "        elif (self.phase['player'] == 2):\n",
    "            ret += '後手第{0}手\\n'.format(self.phase['hand'])\n",
    "        ret += 'poins:\\n{0}'.format(self.points[1:])\n",
    "        ret += 'fields:\\n{0}'.format(self.fields[1:])\n",
    "        return ret\n",
    "    \n",
    "    # playerが1のとき先手,  2のとき後手\n",
    "    def play_game(self, player):\n",
    "        if (player == 1):\n",
    "            self.phase['player'] = 1\n",
    "            self.phase['hand'] += 1\n",
    "        elif (player ==  2):\n",
    "            self.phase['player'] = 2\n",
    "            \n",
    "    def go_back(self):\n",
    "        \n",
    "    def phase_back(self):\n",
    "        if (self.phase['player'] == 1 and self.phase['hand'] == 1):\n",
    "            self.phase['player'] = 0\n",
    "            self.phase['hand'] = 0\n",
    "        elif (self.phase['player'] == 1):\n",
    "            self.phase['hand'] -= 1\n",
    "            self.phase['player'] = 2\n",
    "        elif (self.phase['player'] == 2):\n",
    "            self.phase['player'] = 1\n",
    "            \n",
    "    def point_back(self):\n",
    "        last_p = self.points.pop()\n",
    "        \n",
    "        # 他の点からlast_pを隣接点から削除\n",
    "        for dist_pidx in last_p['dists']:\n",
    "            for index, pidx in enumerate(self.points[dist_pidx]['dists']):\n",
    "                if (pidx == last_p['idx']):\n",
    "                    self.points[dist_pidx]['dists'].pop(index)\n",
    "                    break\n",
    "                    \n",
    "        # pの追加で領域を作った(pが二つの領域に接する)\n",
    "        if (len(last_p['fields']) == 2):\n",
    "            f = self.fields.pop()\n",
    "            \n",
    "            # fに面するpoint全てから\n",
    "            for \n",
    "            \n",
    "            for group in f['groups']:\n",
    "                # groupにlast_pがある場合\n",
    "                if (last_p['idx'] in group): # このgroup内の点に接するfieldはpopしたfieldを除外するだけでいい\n",
    "                    for pidx in group:\n",
    "                        if (pidx != p['idx']):\n",
    "                            for index, fidx enumerate(self.points[pidx]['fields']):\n",
    "                                if (fidx == f['idx']):\n",
    "                                    self.points[pidx]['fields'].pop(index)\n",
    "                else:\n",
    "                    \n",
    "            \n",
    "\n",
    "                "
   ]
  },
  {
   "cell_type": "code",
   "execution_count": 47,
   "metadata": {},
   "outputs": [
    {
     "data": {
      "text/plain": [
       "[( idx: 1, life: 0, dists: [4, 5], fields: [1, 2] ),\n",
       " ( idx: 2, life: 2, dists: [4], fields: [1] ),\n",
       " ( idx: 3, life: 3, dists: [], fields: [2] ),\n",
       " ( idx: 4, life: 1, dists: [1, 2], fields: [1] ),\n",
       " ( idx: 5, life: 1, dists: [1], fields: [1, 2] )]"
      ]
     },
     "execution_count": 47,
     "metadata": {},
     "output_type": "execute_result"
    }
   ],
   "source": [
    "# (3) a\n",
    "n = 3\n",
    "# points[0] は使わない\n",
    "p0 = Point(0, 0)\n",
    "\n",
    "p1 = Point(1, 0)\n",
    "p1.dists.extend([4, 5])\n",
    "p1.fields.extend([1, 2])\n",
    "\n",
    "p2 = Point(2, 2)\n",
    "p2.dists.extend([4])\n",
    "p2.fields.extend([1])\n",
    "\n",
    "p3 = Point(3, 3)\n",
    "p3.fields.extend([2])\n",
    "\n",
    "p4 = Point(4, 1)\n",
    "p4.dists.extend([1, 2])\n",
    "p4.fields.extend([1])\n",
    "\n",
    "p5 = Point(5, 1)\n",
    "p5.dists.extend([1])\n",
    "p5.fields.extend([1, 2])\n",
    "\n",
    "points = [p0, p1, p2, p3, p4, p5]\n",
    "\n",
    "points[1:]"
   ]
  },
  {
   "cell_type": "code",
   "execution_count": 48,
   "metadata": {},
   "outputs": [
    {
     "data": {
      "text/plain": [
       "[(idx: 0, groups: []),\n",
       " (idx: 1, groups: [[1, 2, 4, 5]]),\n",
       " (idx: 2, groups: [[1, 5], [3]])]"
      ]
     },
     "execution_count": 48,
     "metadata": {},
     "output_type": "execute_result"
    }
   ],
   "source": [
    "f0 = Field(0, [])\n",
    "\n",
    "f1 = Field(1, [[1, 2, 4, 5]])\n",
    "f2 = Field(2, [[1, 5], [3]])\n",
    "\n",
    "fields = [f0, f1, f2]\n",
    "\n",
    "fields"
   ]
  },
  {
   "cell_type": "code",
   "execution_count": 49,
   "metadata": {},
   "outputs": [
    {
     "data": {
      "text/plain": [
       "後手第1手\n",
       "poins:\n",
       "[( idx: 1, life: 0, dists: [4, 5], fields: [1, 2] ), ( idx: 2, life: 2, dists: [4], fields: [1] ), ( idx: 3, life: 3, dists: [], fields: [2] ), ( idx: 4, life: 1, dists: [1, 2], fields: [1] ), ( idx: 5, life: 1, dists: [1], fields: [1, 2] )]fields:\n",
       "[(idx: 1, groups: [[1, 2, 4, 5]]), (idx: 2, groups: [[1, 5], [3]])]"
      ]
     },
     "execution_count": 49,
     "metadata": {},
     "output_type": "execute_result"
    }
   ],
   "source": [
    "# (3) b\n",
    "phase = Phase(points, fields, 2, 1)\n",
    "phase"
   ]
  },
  {
   "cell_type": "code",
   "execution_count": 6,
   "metadata": {
    "lines_to_next_cell": 2
   },
   "outputs": [
    {
     "data": {
      "text/plain": [
       "[3, 4]"
      ]
     },
     "execution_count": 6,
     "metadata": {},
     "output_type": "execute_result"
    }
   ],
   "source": [
    "# (4)初期の点の数さえ分かればいい(途中の領域とかどうなっているかは聞かれていない)"
   ]
  },
  {
   "cell_type": "code",
   "execution_count": 2,
   "metadata": {},
   "outputs": [
    {
     "data": {
      "text/plain": [
       "2"
      ]
     },
     "execution_count": 2,
     "metadata": {},
     "output_type": "execute_result"
    }
   ],
   "source": [
    "b"
   ]
  },
  {
   "cell_type": "code",
   "execution_count": 3,
   "metadata": {},
   "outputs": [
    {
     "data": {
      "text/plain": [
       "[1]"
      ]
     },
     "execution_count": 3,
     "metadata": {},
     "output_type": "execute_result"
    }
   ],
   "source": [
    "a"
   ]
  },
  {
   "cell_type": "code",
   "execution_count": null,
   "metadata": {},
   "outputs": [],
   "source": []
  }
 ],
 "metadata": {
  "jupytext": {
   "text_representation": {
    "extension": ".py",
    "format_name": "light",
    "format_version": "1.4",
    "jupytext_version": "1.1.1"
   }
  },
  "kernelspec": {
   "display_name": "Python 3",
   "language": "python",
   "name": "python3"
  },
  "language_info": {
   "codemirror_mode": {
    "name": "ipython",
    "version": 3
   },
   "file_extension": ".py",
   "mimetype": "text/x-python",
   "name": "python",
   "nbconvert_exporter": "python",
   "pygments_lexer": "ipython3",
   "version": "3.7.4"
  }
 },
 "nbformat": 4,
 "nbformat_minor": 2
}

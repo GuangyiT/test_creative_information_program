{
 "cells": [
  {
   "cell_type": "code",
   "execution_count": 48,
   "metadata": {},
   "outputs": [],
   "source": [
    "# 16進数bytes文字列(str)に変換\n",
    "import binascii\n",
    "def Hexbytes2Str(hexbytes):\n",
    "    return binascii.unhexlify(hexbytes).decode('utf-8')"
   ]
  },
  {
   "cell_type": "code",
   "execution_count": 49,
   "metadata": {},
   "outputs": [],
   "source": [
    "# print(Hexbytes2Str(b'e38193e38293e381abe381a1e381af'))\n",
    "# こんにちは"
   ]
  },
  {
   "cell_type": "code",
   "execution_count": 50,
   "metadata": {},
   "outputs": [],
   "source": [
    "# ascii文字列(str)を16進数bytesに変換\n",
    "def AsciiStr2Hexbytes(string):\n",
    "    return binascii.b2a_hex(string.encode('utf-8'))"
   ]
  },
  {
   "cell_type": "code",
   "execution_count": 51,
   "metadata": {},
   "outputs": [],
   "source": [
    "# print(AsciiStr2Hexbytes('Hello'))\n",
    "# b'48656c6c6f'"
   ]
  },
  {
   "cell_type": "code",
   "execution_count": 52,
   "metadata": {},
   "outputs": [],
   "source": [
    "# ascii文字列(str)を10進数intに変換\n",
    "def AsciiStr2Int(asciistring, option='little'):\n",
    "    return int.from_bytes(asciistring.encode(encoding='ascii'), option)"
   ]
  },
  {
   "cell_type": "code",
   "execution_count": 53,
   "metadata": {},
   "outputs": [],
   "source": [
    "# print(AsciiStr2Int('a'), AsciiSTR2INT('abc'))"
   ]
  },
  {
   "cell_type": "code",
   "execution_count": 54,
   "metadata": {},
   "outputs": [],
   "source": [
    "# 10進数をn_bytesの16進数bytesに変換\n",
    "def Int2hexbytes(intnum, n_bytes=1, option='little'):\n",
    "    return binascii.hexlify((intnum).to_bytes(n_bytes, option))"
   ]
  },
  {
   "cell_type": "code",
   "execution_count": 55,
   "metadata": {},
   "outputs": [],
   "source": [
    "# print(Int2hexbytes(97), Int2hexbytes(97, 2, 'little'))"
   ]
  },
  {
   "cell_type": "code",
   "execution_count": 56,
   "metadata": {},
   "outputs": [],
   "source": [
    "def Int2Char(intnum):\n",
    "    return Hexbytes2Str(Int2hexbytes(intnum))"
   ]
  },
  {
   "cell_type": "code",
   "execution_count": 62,
   "metadata": {},
   "outputs": [
    {
     "data": {
      "text/plain": [
       "' '"
      ]
     },
     "execution_count": 62,
     "metadata": {},
     "output_type": "execute_result"
    }
   ],
   "source": [
    "# Int2Char(32)"
   ]
  }
 ],
 "metadata": {
  "jupytext": {
   "text_representation": {
    "extension": ".py",
    "format_name": "light",
    "format_version": "1.4",
    "jupytext_version": "1.1.1"
   }
  },
  "kernelspec": {
   "display_name": "Python 3",
   "language": "python",
   "name": "python3"
  },
  "language_info": {
   "codemirror_mode": {
    "name": "ipython",
    "version": 3
   },
   "file_extension": ".py",
   "mimetype": "text/x-python",
   "name": "python",
   "nbconvert_exporter": "python",
   "pygments_lexer": "ipython3",
   "version": "3.7.4"
  }
 },
 "nbformat": 4,
 "nbformat_minor": 2
}
